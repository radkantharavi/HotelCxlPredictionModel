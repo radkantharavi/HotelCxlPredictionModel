{
 "cells": [
  {
   "cell_type": "code",
   "execution_count": 1,
   "metadata": {},
   "outputs": [],
   "source": [
    "import numpy as np\n",
    "import pandas as pd\n",
    "import seaborn as sns\n",
    "import matplotlib.pyplot as plt\n",
    "import time\n",
    "from sklearn import metrics\n",
    "\n",
    "from sklearn.preprocessing import LabelEncoder, StandardScaler, MinMaxScaler\n",
    "from sklearn.model_selection import train_test_split, cross_val_score, GridSearchCV\n",
    "from sklearn.feature_selection import SelectFromModel, SelectPercentile\n",
    "from sklearn.metrics import f1_score, confusion_matrix\n",
    "\n",
    "from sklearn.linear_model import LogisticRegression, RidgeClassifier, SGDClassifier\n",
    "from sklearn.svm import LinearSVC\n",
    "from sklearn.tree import DecisionTreeClassifier\n",
    "from sklearn.ensemble import RandomForestClassifier, GradientBoostingClassifier, AdaBoostClassifier\n",
    "from sklearn.neighbors import KNeighborsClassifier\n",
    "from sklearn.neural_network import MLPClassifier\n",
    "from sklearn.naive_bayes import GaussianNB"
   ]
  },
  {
   "cell_type": "markdown",
   "metadata": {},
   "source": [
    "# EDA and Data Cleaning"
   ]
  },
  {
   "cell_type": "code",
   "execution_count": 2,
   "metadata": {},
   "outputs": [
    {
     "data": {
      "text/html": [
       "<div>\n",
       "<style scoped>\n",
       "    .dataframe tbody tr th:only-of-type {\n",
       "        vertical-align: middle;\n",
       "    }\n",
       "\n",
       "    .dataframe tbody tr th {\n",
       "        vertical-align: top;\n",
       "    }\n",
       "\n",
       "    .dataframe thead th {\n",
       "        text-align: right;\n",
       "    }\n",
       "</style>\n",
       "<table border=\"1\" class=\"dataframe\">\n",
       "  <thead>\n",
       "    <tr style=\"text-align: right;\">\n",
       "      <th></th>\n",
       "      <th>hotel</th>\n",
       "      <th>is_canceled</th>\n",
       "      <th>lead_time</th>\n",
       "      <th>arrival_date_year</th>\n",
       "      <th>arrival_date_month</th>\n",
       "      <th>arrival_date_week_number</th>\n",
       "      <th>arrival_date_day_of_month</th>\n",
       "      <th>stays_in_weekend_nights</th>\n",
       "      <th>stays_in_week_nights</th>\n",
       "      <th>adults</th>\n",
       "      <th>...</th>\n",
       "      <th>deposit_type</th>\n",
       "      <th>agent</th>\n",
       "      <th>company</th>\n",
       "      <th>days_in_waiting_list</th>\n",
       "      <th>customer_type</th>\n",
       "      <th>adr</th>\n",
       "      <th>required_car_parking_spaces</th>\n",
       "      <th>total_of_special_requests</th>\n",
       "      <th>reservation_status</th>\n",
       "      <th>reservation_status_date</th>\n",
       "    </tr>\n",
       "  </thead>\n",
       "  <tbody>\n",
       "    <tr>\n",
       "      <th>0</th>\n",
       "      <td>Resort Hotel</td>\n",
       "      <td>0</td>\n",
       "      <td>342</td>\n",
       "      <td>2015</td>\n",
       "      <td>July</td>\n",
       "      <td>27</td>\n",
       "      <td>1</td>\n",
       "      <td>0</td>\n",
       "      <td>0</td>\n",
       "      <td>2</td>\n",
       "      <td>...</td>\n",
       "      <td>No Deposit</td>\n",
       "      <td>NaN</td>\n",
       "      <td>NaN</td>\n",
       "      <td>0</td>\n",
       "      <td>Transient</td>\n",
       "      <td>0.00</td>\n",
       "      <td>0</td>\n",
       "      <td>0</td>\n",
       "      <td>Check-Out</td>\n",
       "      <td>2015-07-01</td>\n",
       "    </tr>\n",
       "    <tr>\n",
       "      <th>1</th>\n",
       "      <td>Resort Hotel</td>\n",
       "      <td>0</td>\n",
       "      <td>737</td>\n",
       "      <td>2015</td>\n",
       "      <td>July</td>\n",
       "      <td>27</td>\n",
       "      <td>1</td>\n",
       "      <td>0</td>\n",
       "      <td>0</td>\n",
       "      <td>2</td>\n",
       "      <td>...</td>\n",
       "      <td>No Deposit</td>\n",
       "      <td>NaN</td>\n",
       "      <td>NaN</td>\n",
       "      <td>0</td>\n",
       "      <td>Transient</td>\n",
       "      <td>0.00</td>\n",
       "      <td>0</td>\n",
       "      <td>0</td>\n",
       "      <td>Check-Out</td>\n",
       "      <td>2015-07-01</td>\n",
       "    </tr>\n",
       "    <tr>\n",
       "      <th>2</th>\n",
       "      <td>Resort Hotel</td>\n",
       "      <td>0</td>\n",
       "      <td>7</td>\n",
       "      <td>2015</td>\n",
       "      <td>July</td>\n",
       "      <td>27</td>\n",
       "      <td>1</td>\n",
       "      <td>0</td>\n",
       "      <td>1</td>\n",
       "      <td>1</td>\n",
       "      <td>...</td>\n",
       "      <td>No Deposit</td>\n",
       "      <td>NaN</td>\n",
       "      <td>NaN</td>\n",
       "      <td>0</td>\n",
       "      <td>Transient</td>\n",
       "      <td>75.00</td>\n",
       "      <td>0</td>\n",
       "      <td>0</td>\n",
       "      <td>Check-Out</td>\n",
       "      <td>2015-07-02</td>\n",
       "    </tr>\n",
       "    <tr>\n",
       "      <th>3</th>\n",
       "      <td>Resort Hotel</td>\n",
       "      <td>0</td>\n",
       "      <td>13</td>\n",
       "      <td>2015</td>\n",
       "      <td>July</td>\n",
       "      <td>27</td>\n",
       "      <td>1</td>\n",
       "      <td>0</td>\n",
       "      <td>1</td>\n",
       "      <td>1</td>\n",
       "      <td>...</td>\n",
       "      <td>No Deposit</td>\n",
       "      <td>304.0</td>\n",
       "      <td>NaN</td>\n",
       "      <td>0</td>\n",
       "      <td>Transient</td>\n",
       "      <td>75.00</td>\n",
       "      <td>0</td>\n",
       "      <td>0</td>\n",
       "      <td>Check-Out</td>\n",
       "      <td>2015-07-02</td>\n",
       "    </tr>\n",
       "    <tr>\n",
       "      <th>4</th>\n",
       "      <td>Resort Hotel</td>\n",
       "      <td>0</td>\n",
       "      <td>14</td>\n",
       "      <td>2015</td>\n",
       "      <td>July</td>\n",
       "      <td>27</td>\n",
       "      <td>1</td>\n",
       "      <td>0</td>\n",
       "      <td>2</td>\n",
       "      <td>2</td>\n",
       "      <td>...</td>\n",
       "      <td>No Deposit</td>\n",
       "      <td>240.0</td>\n",
       "      <td>NaN</td>\n",
       "      <td>0</td>\n",
       "      <td>Transient</td>\n",
       "      <td>98.00</td>\n",
       "      <td>0</td>\n",
       "      <td>1</td>\n",
       "      <td>Check-Out</td>\n",
       "      <td>2015-07-03</td>\n",
       "    </tr>\n",
       "    <tr>\n",
       "      <th>...</th>\n",
       "      <td>...</td>\n",
       "      <td>...</td>\n",
       "      <td>...</td>\n",
       "      <td>...</td>\n",
       "      <td>...</td>\n",
       "      <td>...</td>\n",
       "      <td>...</td>\n",
       "      <td>...</td>\n",
       "      <td>...</td>\n",
       "      <td>...</td>\n",
       "      <td>...</td>\n",
       "      <td>...</td>\n",
       "      <td>...</td>\n",
       "      <td>...</td>\n",
       "      <td>...</td>\n",
       "      <td>...</td>\n",
       "      <td>...</td>\n",
       "      <td>...</td>\n",
       "      <td>...</td>\n",
       "      <td>...</td>\n",
       "      <td>...</td>\n",
       "    </tr>\n",
       "    <tr>\n",
       "      <th>119385</th>\n",
       "      <td>City Hotel</td>\n",
       "      <td>0</td>\n",
       "      <td>23</td>\n",
       "      <td>2017</td>\n",
       "      <td>August</td>\n",
       "      <td>35</td>\n",
       "      <td>30</td>\n",
       "      <td>2</td>\n",
       "      <td>5</td>\n",
       "      <td>2</td>\n",
       "      <td>...</td>\n",
       "      <td>No Deposit</td>\n",
       "      <td>394.0</td>\n",
       "      <td>NaN</td>\n",
       "      <td>0</td>\n",
       "      <td>Transient</td>\n",
       "      <td>96.14</td>\n",
       "      <td>0</td>\n",
       "      <td>0</td>\n",
       "      <td>Check-Out</td>\n",
       "      <td>2017-09-06</td>\n",
       "    </tr>\n",
       "    <tr>\n",
       "      <th>119386</th>\n",
       "      <td>City Hotel</td>\n",
       "      <td>0</td>\n",
       "      <td>102</td>\n",
       "      <td>2017</td>\n",
       "      <td>August</td>\n",
       "      <td>35</td>\n",
       "      <td>31</td>\n",
       "      <td>2</td>\n",
       "      <td>5</td>\n",
       "      <td>3</td>\n",
       "      <td>...</td>\n",
       "      <td>No Deposit</td>\n",
       "      <td>9.0</td>\n",
       "      <td>NaN</td>\n",
       "      <td>0</td>\n",
       "      <td>Transient</td>\n",
       "      <td>225.43</td>\n",
       "      <td>0</td>\n",
       "      <td>2</td>\n",
       "      <td>Check-Out</td>\n",
       "      <td>2017-09-07</td>\n",
       "    </tr>\n",
       "    <tr>\n",
       "      <th>119387</th>\n",
       "      <td>City Hotel</td>\n",
       "      <td>0</td>\n",
       "      <td>34</td>\n",
       "      <td>2017</td>\n",
       "      <td>August</td>\n",
       "      <td>35</td>\n",
       "      <td>31</td>\n",
       "      <td>2</td>\n",
       "      <td>5</td>\n",
       "      <td>2</td>\n",
       "      <td>...</td>\n",
       "      <td>No Deposit</td>\n",
       "      <td>9.0</td>\n",
       "      <td>NaN</td>\n",
       "      <td>0</td>\n",
       "      <td>Transient</td>\n",
       "      <td>157.71</td>\n",
       "      <td>0</td>\n",
       "      <td>4</td>\n",
       "      <td>Check-Out</td>\n",
       "      <td>2017-09-07</td>\n",
       "    </tr>\n",
       "    <tr>\n",
       "      <th>119388</th>\n",
       "      <td>City Hotel</td>\n",
       "      <td>0</td>\n",
       "      <td>109</td>\n",
       "      <td>2017</td>\n",
       "      <td>August</td>\n",
       "      <td>35</td>\n",
       "      <td>31</td>\n",
       "      <td>2</td>\n",
       "      <td>5</td>\n",
       "      <td>2</td>\n",
       "      <td>...</td>\n",
       "      <td>No Deposit</td>\n",
       "      <td>89.0</td>\n",
       "      <td>NaN</td>\n",
       "      <td>0</td>\n",
       "      <td>Transient</td>\n",
       "      <td>104.40</td>\n",
       "      <td>0</td>\n",
       "      <td>0</td>\n",
       "      <td>Check-Out</td>\n",
       "      <td>2017-09-07</td>\n",
       "    </tr>\n",
       "    <tr>\n",
       "      <th>119389</th>\n",
       "      <td>City Hotel</td>\n",
       "      <td>0</td>\n",
       "      <td>205</td>\n",
       "      <td>2017</td>\n",
       "      <td>August</td>\n",
       "      <td>35</td>\n",
       "      <td>29</td>\n",
       "      <td>2</td>\n",
       "      <td>7</td>\n",
       "      <td>2</td>\n",
       "      <td>...</td>\n",
       "      <td>No Deposit</td>\n",
       "      <td>9.0</td>\n",
       "      <td>NaN</td>\n",
       "      <td>0</td>\n",
       "      <td>Transient</td>\n",
       "      <td>151.20</td>\n",
       "      <td>0</td>\n",
       "      <td>2</td>\n",
       "      <td>Check-Out</td>\n",
       "      <td>2017-09-07</td>\n",
       "    </tr>\n",
       "  </tbody>\n",
       "</table>\n",
       "<p>119390 rows × 32 columns</p>\n",
       "</div>"
      ],
      "text/plain": [
       "               hotel  is_canceled  lead_time  arrival_date_year  \\\n",
       "0       Resort Hotel            0        342               2015   \n",
       "1       Resort Hotel            0        737               2015   \n",
       "2       Resort Hotel            0          7               2015   \n",
       "3       Resort Hotel            0         13               2015   \n",
       "4       Resort Hotel            0         14               2015   \n",
       "...              ...          ...        ...                ...   \n",
       "119385    City Hotel            0         23               2017   \n",
       "119386    City Hotel            0        102               2017   \n",
       "119387    City Hotel            0         34               2017   \n",
       "119388    City Hotel            0        109               2017   \n",
       "119389    City Hotel            0        205               2017   \n",
       "\n",
       "       arrival_date_month  arrival_date_week_number  \\\n",
       "0                    July                        27   \n",
       "1                    July                        27   \n",
       "2                    July                        27   \n",
       "3                    July                        27   \n",
       "4                    July                        27   \n",
       "...                   ...                       ...   \n",
       "119385             August                        35   \n",
       "119386             August                        35   \n",
       "119387             August                        35   \n",
       "119388             August                        35   \n",
       "119389             August                        35   \n",
       "\n",
       "        arrival_date_day_of_month  stays_in_weekend_nights  \\\n",
       "0                               1                        0   \n",
       "1                               1                        0   \n",
       "2                               1                        0   \n",
       "3                               1                        0   \n",
       "4                               1                        0   \n",
       "...                           ...                      ...   \n",
       "119385                         30                        2   \n",
       "119386                         31                        2   \n",
       "119387                         31                        2   \n",
       "119388                         31                        2   \n",
       "119389                         29                        2   \n",
       "\n",
       "        stays_in_week_nights  adults  ...  deposit_type  agent company  \\\n",
       "0                          0       2  ...    No Deposit    NaN     NaN   \n",
       "1                          0       2  ...    No Deposit    NaN     NaN   \n",
       "2                          1       1  ...    No Deposit    NaN     NaN   \n",
       "3                          1       1  ...    No Deposit  304.0     NaN   \n",
       "4                          2       2  ...    No Deposit  240.0     NaN   \n",
       "...                      ...     ...  ...           ...    ...     ...   \n",
       "119385                     5       2  ...    No Deposit  394.0     NaN   \n",
       "119386                     5       3  ...    No Deposit    9.0     NaN   \n",
       "119387                     5       2  ...    No Deposit    9.0     NaN   \n",
       "119388                     5       2  ...    No Deposit   89.0     NaN   \n",
       "119389                     7       2  ...    No Deposit    9.0     NaN   \n",
       "\n",
       "       days_in_waiting_list customer_type     adr  \\\n",
       "0                         0     Transient    0.00   \n",
       "1                         0     Transient    0.00   \n",
       "2                         0     Transient   75.00   \n",
       "3                         0     Transient   75.00   \n",
       "4                         0     Transient   98.00   \n",
       "...                     ...           ...     ...   \n",
       "119385                    0     Transient   96.14   \n",
       "119386                    0     Transient  225.43   \n",
       "119387                    0     Transient  157.71   \n",
       "119388                    0     Transient  104.40   \n",
       "119389                    0     Transient  151.20   \n",
       "\n",
       "        required_car_parking_spaces  total_of_special_requests  \\\n",
       "0                                 0                          0   \n",
       "1                                 0                          0   \n",
       "2                                 0                          0   \n",
       "3                                 0                          0   \n",
       "4                                 0                          1   \n",
       "...                             ...                        ...   \n",
       "119385                            0                          0   \n",
       "119386                            0                          2   \n",
       "119387                            0                          4   \n",
       "119388                            0                          0   \n",
       "119389                            0                          2   \n",
       "\n",
       "        reservation_status reservation_status_date  \n",
       "0                Check-Out              2015-07-01  \n",
       "1                Check-Out              2015-07-01  \n",
       "2                Check-Out              2015-07-02  \n",
       "3                Check-Out              2015-07-02  \n",
       "4                Check-Out              2015-07-03  \n",
       "...                    ...                     ...  \n",
       "119385           Check-Out              2017-09-06  \n",
       "119386           Check-Out              2017-09-07  \n",
       "119387           Check-Out              2017-09-07  \n",
       "119388           Check-Out              2017-09-07  \n",
       "119389           Check-Out              2017-09-07  \n",
       "\n",
       "[119390 rows x 32 columns]"
      ]
     },
     "execution_count": 2,
     "metadata": {},
     "output_type": "execute_result"
    }
   ],
   "source": [
    "md = pd.read_csv(\"hotel_bookings.csv\")\n",
    "md"
   ]
  },
  {
   "cell_type": "markdown",
   "metadata": {},
   "source": [
    "Identifying percentage of null/missing values from each features. I see missing values in columns like - Children - 0.003%, country-0.4%, agent -13%, Company- 94%. Hence will drop rows with NA values for Children and Country & drop columns for Agent and company. This will impact the dataset in the least way possible before correleating the columns that impact the outcome and clean data further."
   ]
  },
  {
   "cell_type": "code",
   "execution_count": 3,
   "metadata": {
    "scrolled": true
   },
   "outputs": [
    {
     "data": {
      "text/plain": [
       "hotel                              0.000\n",
       "is_canceled                        0.000\n",
       "lead_time                          0.000\n",
       "arrival_date_year                  0.000\n",
       "arrival_date_month                 0.000\n",
       "arrival_date_week_number           0.000\n",
       "arrival_date_day_of_month          0.000\n",
       "stays_in_weekend_nights            0.000\n",
       "stays_in_week_nights               0.000\n",
       "adults                             0.000\n",
       "children                           0.003\n",
       "babies                             0.000\n",
       "meal                               0.000\n",
       "country                            0.409\n",
       "market_segment                     0.000\n",
       "distribution_channel               0.000\n",
       "is_repeated_guest                  0.000\n",
       "previous_cancellations             0.000\n",
       "previous_bookings_not_canceled     0.000\n",
       "reserved_room_type                 0.000\n",
       "assigned_room_type                 0.000\n",
       "booking_changes                    0.000\n",
       "deposit_type                       0.000\n",
       "agent                             13.686\n",
       "company                           94.307\n",
       "days_in_waiting_list               0.000\n",
       "customer_type                      0.000\n",
       "adr                                0.000\n",
       "required_car_parking_spaces        0.000\n",
       "total_of_special_requests          0.000\n",
       "reservation_status                 0.000\n",
       "reservation_status_date            0.000\n",
       "dtype: float64"
      ]
     },
     "execution_count": 3,
     "metadata": {},
     "output_type": "execute_result"
    }
   ],
   "source": [
    "round(100*md.isna().sum()/119390,3)\n",
    "#119390 is the total number of records as identified in the previous cell. "
   ]
  },
  {
   "cell_type": "code",
   "execution_count": 4,
   "metadata": {
    "scrolled": true
   },
   "outputs": [],
   "source": [
    "# Eliminating \"Company\" & \"Agent\" columns altogether.\n",
    "md=md.drop(['company', 'agent'], axis=1)\n",
    "\n",
    "#Dropping just the rows with null values in \"Children\" and \"Company\"\n",
    "md=md.dropna()"
   ]
  },
  {
   "cell_type": "markdown",
   "metadata": {},
   "source": [
    "Re-identifying % null values from each features, no null values now present"
   ]
  },
  {
   "cell_type": "code",
   "execution_count": 5,
   "metadata": {
    "scrolled": true
   },
   "outputs": [
    {
     "data": {
      "text/plain": [
       "hotel                             0.0\n",
       "is_canceled                       0.0\n",
       "lead_time                         0.0\n",
       "arrival_date_year                 0.0\n",
       "arrival_date_month                0.0\n",
       "arrival_date_week_number          0.0\n",
       "arrival_date_day_of_month         0.0\n",
       "stays_in_weekend_nights           0.0\n",
       "stays_in_week_nights              0.0\n",
       "adults                            0.0\n",
       "children                          0.0\n",
       "babies                            0.0\n",
       "meal                              0.0\n",
       "country                           0.0\n",
       "market_segment                    0.0\n",
       "distribution_channel              0.0\n",
       "is_repeated_guest                 0.0\n",
       "previous_cancellations            0.0\n",
       "previous_bookings_not_canceled    0.0\n",
       "reserved_room_type                0.0\n",
       "assigned_room_type                0.0\n",
       "booking_changes                   0.0\n",
       "deposit_type                      0.0\n",
       "days_in_waiting_list              0.0\n",
       "customer_type                     0.0\n",
       "adr                               0.0\n",
       "required_car_parking_spaces       0.0\n",
       "total_of_special_requests         0.0\n",
       "reservation_status                0.0\n",
       "reservation_status_date           0.0\n",
       "dtype: float64"
      ]
     },
     "execution_count": 5,
     "metadata": {},
     "output_type": "execute_result"
    }
   ],
   "source": [
    "round(100*md.isna().sum()/119390,3)"
   ]
  },
  {
   "cell_type": "code",
   "execution_count": 6,
   "metadata": {
    "scrolled": true
   },
   "outputs": [
    {
     "name": "stdout",
     "output_type": "stream",
     "text": [
      "<class 'pandas.core.frame.DataFrame'>\n",
      "Int64Index: 118898 entries, 0 to 119389\n",
      "Data columns (total 30 columns):\n",
      " #   Column                          Non-Null Count   Dtype  \n",
      "---  ------                          --------------   -----  \n",
      " 0   hotel                           118898 non-null  object \n",
      " 1   is_canceled                     118898 non-null  int64  \n",
      " 2   lead_time                       118898 non-null  int64  \n",
      " 3   arrival_date_year               118898 non-null  int64  \n",
      " 4   arrival_date_month              118898 non-null  object \n",
      " 5   arrival_date_week_number        118898 non-null  int64  \n",
      " 6   arrival_date_day_of_month       118898 non-null  int64  \n",
      " 7   stays_in_weekend_nights         118898 non-null  int64  \n",
      " 8   stays_in_week_nights            118898 non-null  int64  \n",
      " 9   adults                          118898 non-null  int64  \n",
      " 10  children                        118898 non-null  float64\n",
      " 11  babies                          118898 non-null  int64  \n",
      " 12  meal                            118898 non-null  object \n",
      " 13  country                         118898 non-null  object \n",
      " 14  market_segment                  118898 non-null  object \n",
      " 15  distribution_channel            118898 non-null  object \n",
      " 16  is_repeated_guest               118898 non-null  int64  \n",
      " 17  previous_cancellations          118898 non-null  int64  \n",
      " 18  previous_bookings_not_canceled  118898 non-null  int64  \n",
      " 19  reserved_room_type              118898 non-null  object \n",
      " 20  assigned_room_type              118898 non-null  object \n",
      " 21  booking_changes                 118898 non-null  int64  \n",
      " 22  deposit_type                    118898 non-null  object \n",
      " 23  days_in_waiting_list            118898 non-null  int64  \n",
      " 24  customer_type                   118898 non-null  object \n",
      " 25  adr                             118898 non-null  float64\n",
      " 26  required_car_parking_spaces     118898 non-null  int64  \n",
      " 27  total_of_special_requests       118898 non-null  int64  \n",
      " 28  reservation_status              118898 non-null  object \n",
      " 29  reservation_status_date         118898 non-null  object \n",
      "dtypes: float64(2), int64(16), object(12)\n",
      "memory usage: 28.1+ MB\n"
     ]
    }
   ],
   "source": [
    "md.info()"
   ]
  },
  {
   "cell_type": "code",
   "execution_count": 7,
   "metadata": {},
   "outputs": [],
   "source": [
    "## convert datatype of these columns from float to integer\n",
    "md[['children', 'adr']] = md[['children', 'adr']].astype('int64')"
   ]
  },
  {
   "cell_type": "markdown",
   "metadata": {},
   "source": [
    "Given the aim is to understand how different factors would impact the rate of cancellation of the hotel bookings, the target variable is 'is_canceled' and that is being reshuffled as the first column. Metadata indicates that '1' is cancelled and '0' is not cancelled. "
   ]
  },
  {
   "cell_type": "code",
   "execution_count": 8,
   "metadata": {
    "scrolled": true
   },
   "outputs": [
    {
     "data": {
      "text/html": [
       "<div>\n",
       "<style scoped>\n",
       "    .dataframe tbody tr th:only-of-type {\n",
       "        vertical-align: middle;\n",
       "    }\n",
       "\n",
       "    .dataframe tbody tr th {\n",
       "        vertical-align: top;\n",
       "    }\n",
       "\n",
       "    .dataframe thead th {\n",
       "        text-align: right;\n",
       "    }\n",
       "</style>\n",
       "<table border=\"1\" class=\"dataframe\">\n",
       "  <thead>\n",
       "    <tr style=\"text-align: right;\">\n",
       "      <th></th>\n",
       "      <th>is_canceled</th>\n",
       "      <th>hotel</th>\n",
       "      <th>lead_time</th>\n",
       "      <th>arrival_date_year</th>\n",
       "      <th>arrival_date_month</th>\n",
       "      <th>arrival_date_week_number</th>\n",
       "      <th>arrival_date_day_of_month</th>\n",
       "      <th>stays_in_weekend_nights</th>\n",
       "      <th>stays_in_week_nights</th>\n",
       "      <th>adults</th>\n",
       "      <th>...</th>\n",
       "      <th>assigned_room_type</th>\n",
       "      <th>booking_changes</th>\n",
       "      <th>deposit_type</th>\n",
       "      <th>days_in_waiting_list</th>\n",
       "      <th>customer_type</th>\n",
       "      <th>adr</th>\n",
       "      <th>required_car_parking_spaces</th>\n",
       "      <th>total_of_special_requests</th>\n",
       "      <th>reservation_status</th>\n",
       "      <th>reservation_status_date</th>\n",
       "    </tr>\n",
       "  </thead>\n",
       "  <tbody>\n",
       "    <tr>\n",
       "      <th>0</th>\n",
       "      <td>0</td>\n",
       "      <td>Resort Hotel</td>\n",
       "      <td>342</td>\n",
       "      <td>2015</td>\n",
       "      <td>July</td>\n",
       "      <td>27</td>\n",
       "      <td>1</td>\n",
       "      <td>0</td>\n",
       "      <td>0</td>\n",
       "      <td>2</td>\n",
       "      <td>...</td>\n",
       "      <td>C</td>\n",
       "      <td>3</td>\n",
       "      <td>No Deposit</td>\n",
       "      <td>0</td>\n",
       "      <td>Transient</td>\n",
       "      <td>0</td>\n",
       "      <td>0</td>\n",
       "      <td>0</td>\n",
       "      <td>Check-Out</td>\n",
       "      <td>2015-07-01</td>\n",
       "    </tr>\n",
       "    <tr>\n",
       "      <th>1</th>\n",
       "      <td>0</td>\n",
       "      <td>Resort Hotel</td>\n",
       "      <td>737</td>\n",
       "      <td>2015</td>\n",
       "      <td>July</td>\n",
       "      <td>27</td>\n",
       "      <td>1</td>\n",
       "      <td>0</td>\n",
       "      <td>0</td>\n",
       "      <td>2</td>\n",
       "      <td>...</td>\n",
       "      <td>C</td>\n",
       "      <td>4</td>\n",
       "      <td>No Deposit</td>\n",
       "      <td>0</td>\n",
       "      <td>Transient</td>\n",
       "      <td>0</td>\n",
       "      <td>0</td>\n",
       "      <td>0</td>\n",
       "      <td>Check-Out</td>\n",
       "      <td>2015-07-01</td>\n",
       "    </tr>\n",
       "    <tr>\n",
       "      <th>2</th>\n",
       "      <td>0</td>\n",
       "      <td>Resort Hotel</td>\n",
       "      <td>7</td>\n",
       "      <td>2015</td>\n",
       "      <td>July</td>\n",
       "      <td>27</td>\n",
       "      <td>1</td>\n",
       "      <td>0</td>\n",
       "      <td>1</td>\n",
       "      <td>1</td>\n",
       "      <td>...</td>\n",
       "      <td>C</td>\n",
       "      <td>0</td>\n",
       "      <td>No Deposit</td>\n",
       "      <td>0</td>\n",
       "      <td>Transient</td>\n",
       "      <td>75</td>\n",
       "      <td>0</td>\n",
       "      <td>0</td>\n",
       "      <td>Check-Out</td>\n",
       "      <td>2015-07-02</td>\n",
       "    </tr>\n",
       "    <tr>\n",
       "      <th>3</th>\n",
       "      <td>0</td>\n",
       "      <td>Resort Hotel</td>\n",
       "      <td>13</td>\n",
       "      <td>2015</td>\n",
       "      <td>July</td>\n",
       "      <td>27</td>\n",
       "      <td>1</td>\n",
       "      <td>0</td>\n",
       "      <td>1</td>\n",
       "      <td>1</td>\n",
       "      <td>...</td>\n",
       "      <td>A</td>\n",
       "      <td>0</td>\n",
       "      <td>No Deposit</td>\n",
       "      <td>0</td>\n",
       "      <td>Transient</td>\n",
       "      <td>75</td>\n",
       "      <td>0</td>\n",
       "      <td>0</td>\n",
       "      <td>Check-Out</td>\n",
       "      <td>2015-07-02</td>\n",
       "    </tr>\n",
       "    <tr>\n",
       "      <th>4</th>\n",
       "      <td>0</td>\n",
       "      <td>Resort Hotel</td>\n",
       "      <td>14</td>\n",
       "      <td>2015</td>\n",
       "      <td>July</td>\n",
       "      <td>27</td>\n",
       "      <td>1</td>\n",
       "      <td>0</td>\n",
       "      <td>2</td>\n",
       "      <td>2</td>\n",
       "      <td>...</td>\n",
       "      <td>A</td>\n",
       "      <td>0</td>\n",
       "      <td>No Deposit</td>\n",
       "      <td>0</td>\n",
       "      <td>Transient</td>\n",
       "      <td>98</td>\n",
       "      <td>0</td>\n",
       "      <td>1</td>\n",
       "      <td>Check-Out</td>\n",
       "      <td>2015-07-03</td>\n",
       "    </tr>\n",
       "    <tr>\n",
       "      <th>...</th>\n",
       "      <td>...</td>\n",
       "      <td>...</td>\n",
       "      <td>...</td>\n",
       "      <td>...</td>\n",
       "      <td>...</td>\n",
       "      <td>...</td>\n",
       "      <td>...</td>\n",
       "      <td>...</td>\n",
       "      <td>...</td>\n",
       "      <td>...</td>\n",
       "      <td>...</td>\n",
       "      <td>...</td>\n",
       "      <td>...</td>\n",
       "      <td>...</td>\n",
       "      <td>...</td>\n",
       "      <td>...</td>\n",
       "      <td>...</td>\n",
       "      <td>...</td>\n",
       "      <td>...</td>\n",
       "      <td>...</td>\n",
       "      <td>...</td>\n",
       "    </tr>\n",
       "    <tr>\n",
       "      <th>119385</th>\n",
       "      <td>0</td>\n",
       "      <td>City Hotel</td>\n",
       "      <td>23</td>\n",
       "      <td>2017</td>\n",
       "      <td>August</td>\n",
       "      <td>35</td>\n",
       "      <td>30</td>\n",
       "      <td>2</td>\n",
       "      <td>5</td>\n",
       "      <td>2</td>\n",
       "      <td>...</td>\n",
       "      <td>A</td>\n",
       "      <td>0</td>\n",
       "      <td>No Deposit</td>\n",
       "      <td>0</td>\n",
       "      <td>Transient</td>\n",
       "      <td>96</td>\n",
       "      <td>0</td>\n",
       "      <td>0</td>\n",
       "      <td>Check-Out</td>\n",
       "      <td>2017-09-06</td>\n",
       "    </tr>\n",
       "    <tr>\n",
       "      <th>119386</th>\n",
       "      <td>0</td>\n",
       "      <td>City Hotel</td>\n",
       "      <td>102</td>\n",
       "      <td>2017</td>\n",
       "      <td>August</td>\n",
       "      <td>35</td>\n",
       "      <td>31</td>\n",
       "      <td>2</td>\n",
       "      <td>5</td>\n",
       "      <td>3</td>\n",
       "      <td>...</td>\n",
       "      <td>E</td>\n",
       "      <td>0</td>\n",
       "      <td>No Deposit</td>\n",
       "      <td>0</td>\n",
       "      <td>Transient</td>\n",
       "      <td>225</td>\n",
       "      <td>0</td>\n",
       "      <td>2</td>\n",
       "      <td>Check-Out</td>\n",
       "      <td>2017-09-07</td>\n",
       "    </tr>\n",
       "    <tr>\n",
       "      <th>119387</th>\n",
       "      <td>0</td>\n",
       "      <td>City Hotel</td>\n",
       "      <td>34</td>\n",
       "      <td>2017</td>\n",
       "      <td>August</td>\n",
       "      <td>35</td>\n",
       "      <td>31</td>\n",
       "      <td>2</td>\n",
       "      <td>5</td>\n",
       "      <td>2</td>\n",
       "      <td>...</td>\n",
       "      <td>D</td>\n",
       "      <td>0</td>\n",
       "      <td>No Deposit</td>\n",
       "      <td>0</td>\n",
       "      <td>Transient</td>\n",
       "      <td>157</td>\n",
       "      <td>0</td>\n",
       "      <td>4</td>\n",
       "      <td>Check-Out</td>\n",
       "      <td>2017-09-07</td>\n",
       "    </tr>\n",
       "    <tr>\n",
       "      <th>119388</th>\n",
       "      <td>0</td>\n",
       "      <td>City Hotel</td>\n",
       "      <td>109</td>\n",
       "      <td>2017</td>\n",
       "      <td>August</td>\n",
       "      <td>35</td>\n",
       "      <td>31</td>\n",
       "      <td>2</td>\n",
       "      <td>5</td>\n",
       "      <td>2</td>\n",
       "      <td>...</td>\n",
       "      <td>A</td>\n",
       "      <td>0</td>\n",
       "      <td>No Deposit</td>\n",
       "      <td>0</td>\n",
       "      <td>Transient</td>\n",
       "      <td>104</td>\n",
       "      <td>0</td>\n",
       "      <td>0</td>\n",
       "      <td>Check-Out</td>\n",
       "      <td>2017-09-07</td>\n",
       "    </tr>\n",
       "    <tr>\n",
       "      <th>119389</th>\n",
       "      <td>0</td>\n",
       "      <td>City Hotel</td>\n",
       "      <td>205</td>\n",
       "      <td>2017</td>\n",
       "      <td>August</td>\n",
       "      <td>35</td>\n",
       "      <td>29</td>\n",
       "      <td>2</td>\n",
       "      <td>7</td>\n",
       "      <td>2</td>\n",
       "      <td>...</td>\n",
       "      <td>A</td>\n",
       "      <td>0</td>\n",
       "      <td>No Deposit</td>\n",
       "      <td>0</td>\n",
       "      <td>Transient</td>\n",
       "      <td>151</td>\n",
       "      <td>0</td>\n",
       "      <td>2</td>\n",
       "      <td>Check-Out</td>\n",
       "      <td>2017-09-07</td>\n",
       "    </tr>\n",
       "  </tbody>\n",
       "</table>\n",
       "<p>118898 rows × 30 columns</p>\n",
       "</div>"
      ],
      "text/plain": [
       "        is_canceled         hotel  lead_time  arrival_date_year  \\\n",
       "0                 0  Resort Hotel        342               2015   \n",
       "1                 0  Resort Hotel        737               2015   \n",
       "2                 0  Resort Hotel          7               2015   \n",
       "3                 0  Resort Hotel         13               2015   \n",
       "4                 0  Resort Hotel         14               2015   \n",
       "...             ...           ...        ...                ...   \n",
       "119385            0    City Hotel         23               2017   \n",
       "119386            0    City Hotel        102               2017   \n",
       "119387            0    City Hotel         34               2017   \n",
       "119388            0    City Hotel        109               2017   \n",
       "119389            0    City Hotel        205               2017   \n",
       "\n",
       "       arrival_date_month  arrival_date_week_number  \\\n",
       "0                    July                        27   \n",
       "1                    July                        27   \n",
       "2                    July                        27   \n",
       "3                    July                        27   \n",
       "4                    July                        27   \n",
       "...                   ...                       ...   \n",
       "119385             August                        35   \n",
       "119386             August                        35   \n",
       "119387             August                        35   \n",
       "119388             August                        35   \n",
       "119389             August                        35   \n",
       "\n",
       "        arrival_date_day_of_month  stays_in_weekend_nights  \\\n",
       "0                               1                        0   \n",
       "1                               1                        0   \n",
       "2                               1                        0   \n",
       "3                               1                        0   \n",
       "4                               1                        0   \n",
       "...                           ...                      ...   \n",
       "119385                         30                        2   \n",
       "119386                         31                        2   \n",
       "119387                         31                        2   \n",
       "119388                         31                        2   \n",
       "119389                         29                        2   \n",
       "\n",
       "        stays_in_week_nights  adults  ...  assigned_room_type  \\\n",
       "0                          0       2  ...                   C   \n",
       "1                          0       2  ...                   C   \n",
       "2                          1       1  ...                   C   \n",
       "3                          1       1  ...                   A   \n",
       "4                          2       2  ...                   A   \n",
       "...                      ...     ...  ...                 ...   \n",
       "119385                     5       2  ...                   A   \n",
       "119386                     5       3  ...                   E   \n",
       "119387                     5       2  ...                   D   \n",
       "119388                     5       2  ...                   A   \n",
       "119389                     7       2  ...                   A   \n",
       "\n",
       "        booking_changes deposit_type days_in_waiting_list customer_type  adr  \\\n",
       "0                     3   No Deposit                    0     Transient    0   \n",
       "1                     4   No Deposit                    0     Transient    0   \n",
       "2                     0   No Deposit                    0     Transient   75   \n",
       "3                     0   No Deposit                    0     Transient   75   \n",
       "4                     0   No Deposit                    0     Transient   98   \n",
       "...                 ...          ...                  ...           ...  ...   \n",
       "119385                0   No Deposit                    0     Transient   96   \n",
       "119386                0   No Deposit                    0     Transient  225   \n",
       "119387                0   No Deposit                    0     Transient  157   \n",
       "119388                0   No Deposit                    0     Transient  104   \n",
       "119389                0   No Deposit                    0     Transient  151   \n",
       "\n",
       "        required_car_parking_spaces  total_of_special_requests  \\\n",
       "0                                 0                          0   \n",
       "1                                 0                          0   \n",
       "2                                 0                          0   \n",
       "3                                 0                          0   \n",
       "4                                 0                          1   \n",
       "...                             ...                        ...   \n",
       "119385                            0                          0   \n",
       "119386                            0                          2   \n",
       "119387                            0                          4   \n",
       "119388                            0                          0   \n",
       "119389                            0                          2   \n",
       "\n",
       "        reservation_status reservation_status_date  \n",
       "0                Check-Out              2015-07-01  \n",
       "1                Check-Out              2015-07-01  \n",
       "2                Check-Out              2015-07-02  \n",
       "3                Check-Out              2015-07-02  \n",
       "4                Check-Out              2015-07-03  \n",
       "...                    ...                     ...  \n",
       "119385           Check-Out              2017-09-06  \n",
       "119386           Check-Out              2017-09-07  \n",
       "119387           Check-Out              2017-09-07  \n",
       "119388           Check-Out              2017-09-07  \n",
       "119389           Check-Out              2017-09-07  \n",
       "\n",
       "[118898 rows x 30 columns]"
      ]
     },
     "execution_count": 8,
     "metadata": {},
     "output_type": "execute_result"
    }
   ],
   "source": [
    "cols = list(md.columns)\n",
    "cols[0], cols[1] = cols[1], cols[0]\n",
    "cols\n",
    "md=md.reindex(columns=cols)\n",
    "md"
   ]
  },
  {
   "cell_type": "markdown",
   "metadata": {},
   "source": [
    "# Data Visualization"
   ]
  },
  {
   "cell_type": "markdown",
   "metadata": {},
   "source": [
    "## ⦿ Annual booking trends: Month-by-month basis"
   ]
  },
  {
   "cell_type": "code",
   "execution_count": 9,
   "metadata": {},
   "outputs": [
    {
     "name": "stderr",
     "output_type": "stream",
     "text": [
      "C:\\Users\\radhi\\anaconda3\\lib\\site-packages\\seaborn\\_decorators.py:36: FutureWarning: Pass the following variables as keyword args: x, y. From version 0.12, the only valid positional argument will be `data`, and passing other arguments without an explicit keyword will result in an error or misinterpretation.\n",
      "  warnings.warn(\n",
      "C:\\Users\\radhi\\anaconda3\\lib\\site-packages\\seaborn\\_decorators.py:36: FutureWarning: Pass the following variables as keyword args: x, y. From version 0.12, the only valid positional argument will be `data`, and passing other arguments without an explicit keyword will result in an error or misinterpretation.\n",
      "  warnings.warn(\n"
     ]
    },
    {
     "data": {
      "image/png": "[encoded data removed]",
      "text/plain": [
       "<Figure size 1296x432 with 1 Axes>"
      ]
     },
     "metadata": {
      "needs_background": "light"
     },
     "output_type": "display_data"
    }
   ],
   "source": [
    "## Order of months- needs to be amended\n",
    "new_order = ['January', 'February', 'March', 'April', 'May', 'June', 'July', 'August', 'September', 'October', \n",
    "             'November', 'December']\n",
    "\n",
    "\n",
    "## Selecting only City Hotel\n",
    "sorted_months = md.loc[md.hotel=='City Hotel' ,'arrival_date_month'].value_counts().reindex(new_order)\n",
    "\n",
    "x1 = sorted_months.index\n",
    "y1 = sorted_months/sorted_months.sum()*100\n",
    "\n",
    "\n",
    "## Select only Resort Hotel\n",
    "sorted_months = md.loc[md.hotel=='Resort Hotel' ,'arrival_date_month'].value_counts().reindex(new_order)\n",
    "\n",
    "x2 = sorted_months.index\n",
    "y2 = sorted_months/sorted_months.sum()*100\n",
    "\n",
    "\n",
    "## Draw the line plot\n",
    "\n",
    "fig, ax = plt.subplots(figsize=(18,6))\n",
    "\n",
    "ax.set_xlabel('Months')\n",
    "ax.set_ylabel('Booking (%)')\n",
    "ax.set_title('Booking Trend (Monthly)')\n",
    "\n",
    "\n",
    "sns.lineplot(x1, y1.values, label='City Hotel', sort=False)\n",
    "sns.lineplot(x1, y2.values, label='Resort Hotel', sort=False)\n",
    "\n",
    "plt.show()"
   ]
  },
  {
   "cell_type": "markdown",
   "metadata": {},
   "source": [
    "Inference: The peak booking months are July and August, and at this time, resort hotels being the highest booked in comparison."
   ]
  },
  {
   "cell_type": "code",
   "execution_count": 10,
   "metadata": {},
   "outputs": [
    {
     "data": {
      "text/plain": [
       "array(['Resort Hotel', 'City Hotel'], dtype=object)"
      ]
     },
     "execution_count": 10,
     "metadata": {},
     "output_type": "execute_result"
    }
   ],
   "source": [
    "#checking for unique values in fields\n",
    "md.hotel.unique()"
   ]
  },
  {
   "cell_type": "markdown",
   "metadata": {},
   "source": [
    "## ⦿ Cancellation Percentage in City vs Resort Hotels"
   ]
  },
  {
   "cell_type": "code",
   "execution_count": 11,
   "metadata": {},
   "outputs": [
    {
     "name": "stdout",
     "output_type": "stream",
     "text": [
      "Cancelations in resort hotel=  0.27975047984644913\n",
      "Cancelations in city hotel=  0.4170891024186023\n",
      "Total bookings in resort hotel=  39596\n",
      "Total bookings in city hotel=  79302\n"
     ]
    },
    {
     "data": {
      "image/png": "[encoded data removed]",
      "text/plain": [
       "<Figure size 432x288 with 1 Axes>"
      ]
     },
     "metadata": {
      "needs_background": "light"
     },
     "output_type": "display_data"
    }
   ],
   "source": [
    "sns.color_palette(\"PuBuGn\", 8)\n",
    "sns.countplot(data=md, x='hotel', hue='is_canceled')\n",
    "resort_canceled = md[(md['hotel']=='Resort Hotel') & (md['is_canceled']==1)]\n",
    "city_canceled = md[(md['hotel']=='City Hotel') & (md['is_canceled']==1)]\n",
    "print('Cancelations in resort hotel= ', (len(resort_canceled))/(len(md[md['hotel']=='Resort Hotel'])))\n",
    "print('Cancelations in city hotel= ', (len(city_canceled))/(len(md[md['hotel']=='City Hotel'])))\n",
    "print('Total bookings in resort hotel= ', (len(md[md['hotel']=='Resort Hotel'])))\n",
    "print('Total bookings in city hotel= ', (len(md[md['hotel']=='City Hotel'])))"
   ]
  },
  {
   "cell_type": "markdown",
   "metadata": {},
   "source": [
    "The highest cancellations stem from city hotels compared to resort hotels. At the same time, it is worth noting that the bookings is overall higher in city hotels too. Will be worth comparing percentage of cancellations of which all City bookings were cancelled compared to % of resort bookings being cancelled."
   ]
  },
  {
   "cell_type": "markdown",
   "metadata": {},
   "source": [
    "## ⦿ Cancellation Percentage - New Vs Returning customers"
   ]
  },
  {
   "cell_type": "code",
   "execution_count": 12,
   "metadata": {},
   "outputs": [
    {
     "name": "stdout",
     "output_type": "stream",
     "text": [
      "Cancelations among new guests=  0.3788360615855142\n",
      "Cancelations among old guests=  0.14503415659485025\n",
      "Number of new guests=  115092\n",
      "Number of old guests=  3806\n"
     ]
    },
    {
     "data": {
      "image/png": "[encoded data removed]",
      "text/plain": [
       "<Figure size 432x288 with 1 Axes>"
      ]
     },
     "metadata": {
      "needs_background": "light"
     },
     "output_type": "display_data"
    }
   ],
   "source": [
    "sns.countplot(data=md, x='is_repeated_guest', hue='is_canceled')\n",
    "new_guest = md[(md['is_repeated_guest']==0) & (md['is_canceled']==1)]\n",
    "old_guest = md[(md['is_repeated_guest']==1) & (md['is_canceled']==1)]\n",
    "print('Cancelations among new guests= ', (len(new_guest))/(len(md[md['is_repeated_guest']==0])))\n",
    "print('Cancelations among old guests= ', (len(old_guest))/(len(md[md['is_repeated_guest']==1])))\n",
    "print('Number of new guests= ', len(md[md['is_repeated_guest']==0]))\n",
    "print('Number of old guests= ', len(md[md['is_repeated_guest']==1]))"
   ]
  },
  {
   "cell_type": "markdown",
   "metadata": {},
   "source": [
    "Inference: Most of the guests are new and also they contribute to maximum % cancelations. "
   ]
  },
  {
   "cell_type": "markdown",
   "metadata": {},
   "source": [
    "## ⦿ Cancellation Pattern- Refundable vs Non-Refundable bookings. "
   ]
  },
  {
   "cell_type": "code",
   "execution_count": 13,
   "metadata": {},
   "outputs": [
    {
     "data": {
      "image/png": "[encoded data removed]",
      "text/plain": [
       "<Figure size 432x288 with 1 Axes>"
      ]
     },
     "metadata": {
      "needs_background": "light"
     },
     "output_type": "display_data"
    }
   ],
   "source": [
    "sns.color_palette(\"afmhot\", 8)\n",
    "sns.countplot(x=\"deposit_type\", hue=\"is_canceled\",data=md);"
   ]
  },
  {
   "cell_type": "markdown",
   "metadata": {},
   "source": [
    "Inference: Bookings which are non refundable are cancelled, which is bizzare. It might be because of the value of booking cost which the customers are willing to let go instead of paying a premium on the non-deposit category"
   ]
  },
  {
   "cell_type": "markdown",
   "metadata": {},
   "source": [
    "## ⦿ Annual Booking Quantity by Booking Type"
   ]
  },
  {
   "cell_type": "code",
   "execution_count": 14,
   "metadata": {},
   "outputs": [
    {
     "name": "stderr",
     "output_type": "stream",
     "text": [
      "C:\\Users\\radhi\\anaconda3\\lib\\site-packages\\seaborn\\axisgrid.py:670: UserWarning: Using the countplot function without specifying `order` is likely to produce an incorrect plot.\n",
      "  warnings.warn(warning)\n"
     ]
    },
    {
     "data": {
      "text/plain": [
       "<seaborn.axisgrid.FacetGrid at 0x235b8533c40>"
      ]
     },
     "execution_count": 14,
     "metadata": {},
     "output_type": "execute_result"
    },
    {
     "data": {
      "image/png": "[encoded data removed]",
      "text/plain": [
       "<Figure size 648x216 with 3 Axes>"
      ]
     },
     "metadata": {
      "needs_background": "light"
     },
     "output_type": "display_data"
    }
   ],
   "source": [
    "grid = sns.FacetGrid(md, col='arrival_date_year')\n",
    "grid.map(sns.countplot, 'hotel')"
   ]
  },
  {
   "cell_type": "markdown",
   "metadata": {},
   "source": [
    "Inference: For all 3 years, city hotels saw more bookings than the resorts. Which adds up because there are more volumes of city hotels that resort hotels. "
   ]
  },
  {
   "cell_type": "markdown",
   "metadata": {},
   "source": [
    "## ⦿ Booking Distribution based on Customer Type"
   ]
  },
  {
   "cell_type": "code",
   "execution_count": 15,
   "metadata": {},
   "outputs": [
    {
     "name": "stdout",
     "output_type": "stream",
     "text": [
      "TABLE 1\n",
      "hotel         customer_type  \n",
      "City Hotel    Contract            2300\n",
      "              Group                292\n",
      "              Transient          59382\n",
      "              Transient-Party    17328\n",
      "Resort Hotel  Contract            1776\n",
      "              Group                278\n",
      "              Transient          29792\n",
      "              Transient-Party     7750\n",
      "dtype: int64\n"
     ]
    }
   ],
   "source": [
    "print(\"TABLE 1\")\n",
    "print(md.groupby(['hotel', 'customer_type']).size())"
   ]
  },
  {
   "cell_type": "markdown",
   "metadata": {},
   "source": [
    "Inference: For each type of hotel, transient type customers make highest bookings."
   ]
  },
  {
   "cell_type": "markdown",
   "metadata": {},
   "source": [
    "## ⦿ Identifying Customer Type and Distribution Segment with highest booking traction"
   ]
  },
  {
   "cell_type": "code",
   "execution_count": 16,
   "metadata": {
    "scrolled": true
   },
   "outputs": [
    {
     "name": "stdout",
     "output_type": "stream",
     "text": [
      "customer_type    distribution_channel\n",
      "Contract         Corporate                  27\n",
      "                 Direct                     19\n",
      "                 TA/TO                    4030\n",
      "Group            Corporate                  31\n",
      "                 Direct                    114\n",
      "                 TA/TO                     425\n",
      "Transient        Corporate                3980\n",
      "                 Direct                  12197\n",
      "                 GDS                       193\n",
      "                 TA/TO                   72803\n",
      "                 Undefined                   1\n",
      "Transient-Party  Corporate                2453\n",
      "                 Direct                   2153\n",
      "                 TA/TO                   20472\n",
      "dtype: int64\n",
      "------------------------------------------------------------\n",
      "customer_type    market_segment\n",
      "Contract         Complementary         2\n",
      "                 Corporate            22\n",
      "                 Direct               14\n",
      "                 Groups              735\n",
      "                 Offline TA/TO      1817\n",
      "                 Online TA          1486\n",
      "Group            Aviation              2\n",
      "                 Complementary         5\n",
      "                 Corporate            29\n",
      "                 Direct              133\n",
      "                 Groups               16\n",
      "                 Offline TA/TO       210\n",
      "                 Online TA           175\n",
      "Transient        Aviation            218\n",
      "                 Complementary       695\n",
      "                 Corporate          3402\n",
      "                 Direct            11189\n",
      "                 Groups             8426\n",
      "                 Offline TA/TO     14011\n",
      "                 Online TA         51233\n",
      "Transient-Party  Aviation             17\n",
      "                 Complementary        32\n",
      "                 Corporate          1658\n",
      "                 Direct             1112\n",
      "                 Groups            10629\n",
      "                 Offline TA/TO      8122\n",
      "                 Online TA          3508\n",
      "dtype: int64\n"
     ]
    }
   ],
   "source": [
    "print(md.groupby(['customer_type', 'distribution_channel']).size())\n",
    "print(\"-\"*60)\n",
    "print(md.groupby(['customer_type', 'market_segment']).size())"
   ]
  },
  {
   "cell_type": "markdown",
   "metadata": {},
   "source": [
    "Inference:\n",
    "\n",
    "Table 1 Inference, Most customers booking through TA/TO Channel.                          \n",
    "Table 2 Inference, Most customers use the market segments- Offline TA/TO and online TA to make bookings\n",
    "\n",
    "The company can use the above inference to make necessary marketing and sales strategies to improve booking revenue."
   ]
  },
  {
   "cell_type": "markdown",
   "metadata": {},
   "source": [
    "## ⦿ Identify Key Customers for Business based on Customer Group "
   ]
  },
  {
   "cell_type": "code",
   "execution_count": 17,
   "metadata": {},
   "outputs": [
    {
     "data": {
      "text/plain": [
       "customer_type    reservation_status\n",
       "Contract         Canceled              30.323847\n",
       "                 Check-Out             69.038273\n",
       "                 No-Show                0.637880\n",
       "Group            Canceled               9.473684\n",
       "                 Check-Out             89.824561\n",
       "                 No-Show                0.701754\n",
       "Transient        Canceled              39.817660\n",
       "                 Check-Out             59.113643\n",
       "                 No-Show                1.068697\n",
       "Transient-Party  Canceled              24.535449\n",
       "                 Check-Out             74.587288\n",
       "                 No-Show                0.877263\n",
       "dtype: float64"
      ]
     },
     "execution_count": 17,
     "metadata": {},
     "output_type": "execute_result"
    }
   ],
   "source": [
    "group = md.groupby(['customer_type', 'reservation_status']).size()\n",
    "group_pcts = group.groupby(level=0).apply(lambda x:100 * x / float(x.sum()))\n",
    "group_pcts"
   ]
  },
  {
   "cell_type": "markdown",
   "metadata": {},
   "source": [
    "Inference:\n",
    "\n",
    "Most bookings sucess flows through Group, followed by Transient Party\n",
    "\n",
    "The company can focus its efforts to impact these categories through marketing for increased revenue, conversly also focus efforts to impact better on Transient and contract customers who have the highest canceled %"
   ]
  },
  {
   "cell_type": "markdown",
   "metadata": {},
   "source": [
    "## ⦿ Top 5 Countries of Origination of Customers. "
   ]
  },
  {
   "cell_type": "code",
   "execution_count": 18,
   "metadata": {},
   "outputs": [
    {
     "data": {
      "text/html": [
       "<div>\n",
       "<style scoped>\n",
       "    .dataframe tbody tr th:only-of-type {\n",
       "        vertical-align: middle;\n",
       "    }\n",
       "\n",
       "    .dataframe tbody tr th {\n",
       "        vertical-align: top;\n",
       "    }\n",
       "\n",
       "    .dataframe thead th {\n",
       "        text-align: right;\n",
       "    }\n",
       "</style>\n",
       "<table border=\"1\" class=\"dataframe\">\n",
       "  <thead>\n",
       "    <tr style=\"text-align: right;\">\n",
       "      <th></th>\n",
       "      <th>Count</th>\n",
       "    </tr>\n",
       "    <tr>\n",
       "      <th>country</th>\n",
       "      <th></th>\n",
       "    </tr>\n",
       "  </thead>\n",
       "  <tbody>\n",
       "    <tr>\n",
       "      <th>PRT</th>\n",
       "      <td>48586</td>\n",
       "    </tr>\n",
       "    <tr>\n",
       "      <th>GBR</th>\n",
       "      <td>12129</td>\n",
       "    </tr>\n",
       "    <tr>\n",
       "      <th>FRA</th>\n",
       "      <td>10415</td>\n",
       "    </tr>\n",
       "    <tr>\n",
       "      <th>ESP</th>\n",
       "      <td>8568</td>\n",
       "    </tr>\n",
       "    <tr>\n",
       "      <th>DEU</th>\n",
       "      <td>7287</td>\n",
       "    </tr>\n",
       "  </tbody>\n",
       "</table>\n",
       "</div>"
      ],
      "text/plain": [
       "         Count\n",
       "country       \n",
       "PRT      48586\n",
       "GBR      12129\n",
       "FRA      10415\n",
       "ESP       8568\n",
       "DEU       7287"
      ]
     },
     "execution_count": 18,
     "metadata": {},
     "output_type": "execute_result"
    }
   ],
   "source": [
    "country = md.groupby(['country']).count().sort_values('is_canceled',ascending=False).head(5)\n",
    "country= country.rename(columns={'is_canceled' : 'Count'})\n",
    "country[['Count']]"
   ]
  },
  {
   "cell_type": "markdown",
   "metadata": {},
   "source": [
    "Inference: Most booking traffic comes from these top 5 countries"
   ]
  },
  {
   "cell_type": "markdown",
   "metadata": {},
   "source": [
    "## ⦿ Successful Distribution Channels for the above top 5 countries."
   ]
  },
  {
   "cell_type": "code",
   "execution_count": 19,
   "metadata": {},
   "outputs": [
    {
     "name": "stderr",
     "output_type": "stream",
     "text": [
      "C:\\Users\\radhi\\anaconda3\\lib\\site-packages\\seaborn\\axisgrid.py:670: UserWarning: Using the countplot function without specifying `order` is likely to produce an incorrect plot.\n",
      "  warnings.warn(warning)\n"
     ]
    },
    {
     "data": {
      "text/plain": [
       "<seaborn.axisgrid.FacetGrid at 0x235b9c79c70>"
      ]
     },
     "execution_count": 19,
     "metadata": {},
     "output_type": "execute_result"
    },
    {
     "data": {
      "image/png": "[encoded data removed]",
      "text/plain": [
       "<Figure size 1080x216 with 5 Axes>"
      ]
     },
     "metadata": {
      "needs_background": "light"
     },
     "output_type": "display_data"
    }
   ],
   "source": [
    "temp = md.loc[(md['country']=='PRT') | (md['country']=='GBR') | (md['country']=='FRA') | (md['country']=='ESP') | (md['country']=='DEU')]\n",
    "grid = sns.FacetGrid(temp, col='country')\n",
    "grid.map(sns.countplot, 'distribution_channel')"
   ]
  },
  {
   "cell_type": "markdown",
   "metadata": {},
   "source": [
    "Inference: The above data indicates different countries show success across different categories. Eg. in PRT - Direct distrubuiton channel yields more bookings, while in ESP its TA/TO channel. This inference can be leveraged to focus efforts through marketing activities in these specific manners to gain more booking traction and also understand how to save costs by cutting down publicity efforts on the other channels which don't yield business for us. Eg GDS is useless in all these countries."
   ]
  },
  {
   "cell_type": "markdown",
   "metadata": {},
   "source": [
    "# Feature Selection through Correlation Check"
   ]
  },
  {
   "cell_type": "code",
   "execution_count": 20,
   "metadata": {},
   "outputs": [
    {
     "data": {
      "image/png": "[encoded data removed]",
      "text/plain": [
       "<Figure size 1152x648 with 2 Axes>"
      ]
     },
     "metadata": {
      "needs_background": "light"
     },
     "output_type": "display_data"
    }
   ],
   "source": [
    "#Using Pearson Correlation to understand features that impact the output the most\n",
    "plt.figure(figsize=(16, 9)) \n",
    "corr_matrix = md.corr()\n",
    "sns.heatmap(corr_matrix)\n",
    "plt.show()"
   ]
  },
  {
   "cell_type": "markdown",
   "metadata": {},
   "source": [
    "The correlation heatmap isn't extremely clear due to the number of variables used, which is why I will proceed with making a correlation matrix and identify top most impactful variables. "
   ]
  },
  {
   "cell_type": "code",
   "execution_count": 21,
   "metadata": {},
   "outputs": [
    {
     "name": "stdout",
     "output_type": "stream",
     "text": [
      "        is_canceled         hotel  lead_time  arrival_date_year  \\\n",
      "0                 0  Resort Hotel        342               2015   \n",
      "1                 0  Resort Hotel        737               2015   \n",
      "2                 0  Resort Hotel          7               2015   \n",
      "3                 0  Resort Hotel         13               2015   \n",
      "4                 0  Resort Hotel         14               2015   \n",
      "...             ...           ...        ...                ...   \n",
      "119385            0    City Hotel         23               2017   \n",
      "119386            0    City Hotel        102               2017   \n",
      "119387            0    City Hotel         34               2017   \n",
      "119388            0    City Hotel        109               2017   \n",
      "119389            0    City Hotel        205               2017   \n",
      "\n",
      "       arrival_date_month  arrival_date_week_number  \\\n",
      "0                    July                        27   \n",
      "1                    July                        27   \n",
      "2                    July                        27   \n",
      "3                    July                        27   \n",
      "4                    July                        27   \n",
      "...                   ...                       ...   \n",
      "119385             August                        35   \n",
      "119386             August                        35   \n",
      "119387             August                        35   \n",
      "119388             August                        35   \n",
      "119389             August                        35   \n",
      "\n",
      "        arrival_date_day_of_month  stays_in_weekend_nights  \\\n",
      "0                               1                        0   \n",
      "1                               1                        0   \n",
      "2                               1                        0   \n",
      "3                               1                        0   \n",
      "4                               1                        0   \n",
      "...                           ...                      ...   \n",
      "119385                         30                        2   \n",
      "119386                         31                        2   \n",
      "119387                         31                        2   \n",
      "119388                         31                        2   \n",
      "119389                         29                        2   \n",
      "\n",
      "        stays_in_week_nights  adults  ...  assigned_room_type  \\\n",
      "0                          0       2  ...                   C   \n",
      "1                          0       2  ...                   C   \n",
      "2                          1       1  ...                   C   \n",
      "3                          1       1  ...                   A   \n",
      "4                          2       2  ...                   A   \n",
      "...                      ...     ...  ...                 ...   \n",
      "119385                     5       2  ...                   A   \n",
      "119386                     5       3  ...                   E   \n",
      "119387                     5       2  ...                   D   \n",
      "119388                     5       2  ...                   A   \n",
      "119389                     7       2  ...                   A   \n",
      "\n",
      "        booking_changes deposit_type days_in_waiting_list customer_type  adr  \\\n",
      "0                     3   No Deposit                    0     Transient    0   \n",
      "1                     4   No Deposit                    0     Transient    0   \n",
      "2                     0   No Deposit                    0     Transient   75   \n",
      "3                     0   No Deposit                    0     Transient   75   \n",
      "4                     0   No Deposit                    0     Transient   98   \n",
      "...                 ...          ...                  ...           ...  ...   \n",
      "119385                0   No Deposit                    0     Transient   96   \n",
      "119386                0   No Deposit                    0     Transient  225   \n",
      "119387                0   No Deposit                    0     Transient  157   \n",
      "119388                0   No Deposit                    0     Transient  104   \n",
      "119389                0   No Deposit                    0     Transient  151   \n",
      "\n",
      "        required_car_parking_spaces  total_of_special_requests  \\\n",
      "0                                 0                          0   \n",
      "1                                 0                          0   \n",
      "2                                 0                          0   \n",
      "3                                 0                          0   \n",
      "4                                 0                          1   \n",
      "...                             ...                        ...   \n",
      "119385                            0                          0   \n",
      "119386                            0                          2   \n",
      "119387                            0                          4   \n",
      "119388                            0                          0   \n",
      "119389                            0                          2   \n",
      "\n",
      "        reservation_status reservation_status_date  \n",
      "0                Check-Out              2015-07-01  \n",
      "1                Check-Out              2015-07-01  \n",
      "2                Check-Out              2015-07-02  \n",
      "3                Check-Out              2015-07-02  \n",
      "4                Check-Out              2015-07-03  \n",
      "...                    ...                     ...  \n",
      "119385           Check-Out              2017-09-06  \n",
      "119386           Check-Out              2017-09-07  \n",
      "119387           Check-Out              2017-09-07  \n",
      "119388           Check-Out              2017-09-07  \n",
      "119389           Check-Out              2017-09-07  \n",
      "\n",
      "[118898 rows x 30 columns]\n",
      "Correlation Matrix\n",
      "\n"
     ]
    }
   ],
   "source": [
    "print(md)\n",
    "\n",
    "print(\"Correlation Matrix\")\n",
    "corelation=md.corr()\n",
    "print()"
   ]
  },
  {
   "cell_type": "code",
   "execution_count": 22,
   "metadata": {},
   "outputs": [
    {
     "data": {
      "text/plain": [
       "is_canceled                       1.000000\n",
       "lead_time                         0.291994\n",
       "total_of_special_requests         0.235643\n",
       "required_car_parking_spaces       0.194796\n",
       "booking_changes                   0.144659\n",
       "previous_cancellations            0.109922\n",
       "is_repeated_guest                 0.085179\n",
       "adults                            0.058381\n",
       "previous_bookings_not_canceled    0.055493\n",
       "days_in_waiting_list              0.054016\n",
       "adr                               0.046571\n",
       "Name: is_canceled, dtype: float64"
      ]
     },
     "execution_count": 22,
     "metadata": {},
     "output_type": "execute_result"
    }
   ],
   "source": [
    "a=abs(corelation['is_canceled'])\n",
    "a.sort_values(ascending=False).head(11)"
   ]
  },
  {
   "cell_type": "markdown",
   "metadata": {},
   "source": [
    "Inference: Since the above columns have the highest correlation towards the output \"is_canceled\", will retain these features alone for the analysis and exclude the rest as those inputs will not exist until a customer checks in.  \n",
    "This is the simplest model that can be built limiting multi-collinearity as well. "
   ]
  },
  {
   "cell_type": "code",
   "execution_count": 23,
   "metadata": {
    "scrolled": true
   },
   "outputs": [
    {
     "name": "stdout",
     "output_type": "stream",
     "text": [
      "<class 'pandas.core.frame.DataFrame'>\n",
      "Int64Index: 118898 entries, 0 to 119389\n",
      "Data columns (total 12 columns):\n",
      " #   Column                          Non-Null Count   Dtype \n",
      "---  ------                          --------------   ----- \n",
      " 0   is_canceled                     118898 non-null  int64 \n",
      " 1   hotel                           118898 non-null  object\n",
      " 2   lead_time                       118898 non-null  int64 \n",
      " 3   total_of_special_requests       118898 non-null  int64 \n",
      " 4   required_car_parking_spaces     118898 non-null  int64 \n",
      " 5   booking_changes                 118898 non-null  int64 \n",
      " 6   previous_cancellations          118898 non-null  int64 \n",
      " 7   is_repeated_guest               118898 non-null  int64 \n",
      " 8   adults                          118898 non-null  int64 \n",
      " 9   previous_bookings_not_canceled  118898 non-null  int64 \n",
      " 10  days_in_waiting_list            118898 non-null  int64 \n",
      " 11  adr                             118898 non-null  int64 \n",
      "dtypes: int64(11), object(1)\n",
      "memory usage: 15.8+ MB\n"
     ]
    }
   ],
   "source": [
    "# creating new dataframe to store for analysis \n",
    "md_analysis=md[['is_canceled','hotel','lead_time','total_of_special_requests','required_car_parking_spaces', 'booking_changes', 'previous_cancellations', 'is_repeated_guest','adults', 'previous_bookings_not_canceled','days_in_waiting_list', 'adr']]\n",
    "md_analysis.head()\n",
    "md_analysis.info()"
   ]
  },
  {
   "cell_type": "markdown",
   "metadata": {},
   "source": [
    "# Data Balancing"
   ]
  },
  {
   "cell_type": "code",
   "execution_count": 24,
   "metadata": {},
   "outputs": [
    {
     "data": {
      "text/plain": [
       "City Hotel      66.698\n",
       "Resort Hotel    33.302\n",
       "Name: hotel, dtype: float64"
      ]
     },
     "execution_count": 24,
     "metadata": {},
     "output_type": "execute_result"
    }
   ],
   "source": [
    "md_analysis.hotel.value_counts()\n",
    "round(100*md_analysis.hotel.value_counts()/118898,3)"
   ]
  },
  {
   "cell_type": "markdown",
   "metadata": {},
   "source": [
    "The Data Imbalance for the predictor is moderate at best and would not require Data Balancing techniques for correction. Further, models like Decision Tree and Random Forest are good at correcting this minor imbalance thanks to the splitting rules these use to work on the class variables that generate these trees. \n",
    "https://www.researchgate.net/post/What_is_the_exact_data_sample_ratio_of_every_classes_to_declare_a_dataset_suffering_from_a_slight_severe_class_imbalance_problem was specifically helpful to arrive at this decision. "
   ]
  },
  {
   "cell_type": "markdown",
   "metadata": {},
   "source": [
    "# One-Hot Encoding"
   ]
  },
  {
   "cell_type": "code",
   "execution_count": 25,
   "metadata": {},
   "outputs": [
    {
     "name": "stdout",
     "output_type": "stream",
     "text": [
      "Index(['is_canceled', 'lead_time', 'total_of_special_requests',\n",
      "       'required_car_parking_spaces', 'booking_changes',\n",
      "       'previous_cancellations', 'is_repeated_guest', 'adults',\n",
      "       'previous_bookings_not_canceled', 'days_in_waiting_list', 'adr',\n",
      "       'hotel_City Hotel', 'hotel_Resort Hotel'],\n",
      "      dtype='object')\n"
     ]
    }
   ],
   "source": [
    "#One-hot encoding \n",
    "md_analysis = pd.get_dummies(md_analysis, columns = ['hotel'])\n",
    "print(md_analysis.columns)"
   ]
  },
  {
   "cell_type": "code",
   "execution_count": 26,
   "metadata": {},
   "outputs": [
    {
     "data": {
      "text/html": [
       "<div>\n",
       "<style scoped>\n",
       "    .dataframe tbody tr th:only-of-type {\n",
       "        vertical-align: middle;\n",
       "    }\n",
       "\n",
       "    .dataframe tbody tr th {\n",
       "        vertical-align: top;\n",
       "    }\n",
       "\n",
       "    .dataframe thead th {\n",
       "        text-align: right;\n",
       "    }\n",
       "</style>\n",
       "<table border=\"1\" class=\"dataframe\">\n",
       "  <thead>\n",
       "    <tr style=\"text-align: right;\">\n",
       "      <th></th>\n",
       "      <th>is_canceled</th>\n",
       "      <th>lead_time</th>\n",
       "      <th>total_of_special_requests</th>\n",
       "      <th>required_car_parking_spaces</th>\n",
       "      <th>booking_changes</th>\n",
       "      <th>previous_cancellations</th>\n",
       "      <th>is_repeated_guest</th>\n",
       "      <th>adults</th>\n",
       "      <th>previous_bookings_not_canceled</th>\n",
       "      <th>days_in_waiting_list</th>\n",
       "      <th>adr</th>\n",
       "      <th>hotel_City Hotel</th>\n",
       "      <th>hotel_Resort Hotel</th>\n",
       "    </tr>\n",
       "  </thead>\n",
       "  <tbody>\n",
       "    <tr>\n",
       "      <th>0</th>\n",
       "      <td>0</td>\n",
       "      <td>342</td>\n",
       "      <td>0</td>\n",
       "      <td>0</td>\n",
       "      <td>3</td>\n",
       "      <td>0</td>\n",
       "      <td>0</td>\n",
       "      <td>2</td>\n",
       "      <td>0</td>\n",
       "      <td>0</td>\n",
       "      <td>0</td>\n",
       "      <td>0</td>\n",
       "      <td>1</td>\n",
       "    </tr>\n",
       "    <tr>\n",
       "      <th>1</th>\n",
       "      <td>0</td>\n",
       "      <td>737</td>\n",
       "      <td>0</td>\n",
       "      <td>0</td>\n",
       "      <td>4</td>\n",
       "      <td>0</td>\n",
       "      <td>0</td>\n",
       "      <td>2</td>\n",
       "      <td>0</td>\n",
       "      <td>0</td>\n",
       "      <td>0</td>\n",
       "      <td>0</td>\n",
       "      <td>1</td>\n",
       "    </tr>\n",
       "    <tr>\n",
       "      <th>2</th>\n",
       "      <td>0</td>\n",
       "      <td>7</td>\n",
       "      <td>0</td>\n",
       "      <td>0</td>\n",
       "      <td>0</td>\n",
       "      <td>0</td>\n",
       "      <td>0</td>\n",
       "      <td>1</td>\n",
       "      <td>0</td>\n",
       "      <td>0</td>\n",
       "      <td>75</td>\n",
       "      <td>0</td>\n",
       "      <td>1</td>\n",
       "    </tr>\n",
       "    <tr>\n",
       "      <th>3</th>\n",
       "      <td>0</td>\n",
       "      <td>13</td>\n",
       "      <td>0</td>\n",
       "      <td>0</td>\n",
       "      <td>0</td>\n",
       "      <td>0</td>\n",
       "      <td>0</td>\n",
       "      <td>1</td>\n",
       "      <td>0</td>\n",
       "      <td>0</td>\n",
       "      <td>75</td>\n",
       "      <td>0</td>\n",
       "      <td>1</td>\n",
       "    </tr>\n",
       "    <tr>\n",
       "      <th>4</th>\n",
       "      <td>0</td>\n",
       "      <td>14</td>\n",
       "      <td>1</td>\n",
       "      <td>0</td>\n",
       "      <td>0</td>\n",
       "      <td>0</td>\n",
       "      <td>0</td>\n",
       "      <td>2</td>\n",
       "      <td>0</td>\n",
       "      <td>0</td>\n",
       "      <td>98</td>\n",
       "      <td>0</td>\n",
       "      <td>1</td>\n",
       "    </tr>\n",
       "  </tbody>\n",
       "</table>\n",
       "</div>"
      ],
      "text/plain": [
       "   is_canceled  lead_time  total_of_special_requests  \\\n",
       "0            0        342                          0   \n",
       "1            0        737                          0   \n",
       "2            0          7                          0   \n",
       "3            0         13                          0   \n",
       "4            0         14                          1   \n",
       "\n",
       "   required_car_parking_spaces  booking_changes  previous_cancellations  \\\n",
       "0                            0                3                       0   \n",
       "1                            0                4                       0   \n",
       "2                            0                0                       0   \n",
       "3                            0                0                       0   \n",
       "4                            0                0                       0   \n",
       "\n",
       "   is_repeated_guest  adults  previous_bookings_not_canceled  \\\n",
       "0                  0       2                               0   \n",
       "1                  0       2                               0   \n",
       "2                  0       1                               0   \n",
       "3                  0       1                               0   \n",
       "4                  0       2                               0   \n",
       "\n",
       "   days_in_waiting_list  adr  hotel_City Hotel  hotel_Resort Hotel  \n",
       "0                     0    0                 0                   1  \n",
       "1                     0    0                 0                   1  \n",
       "2                     0   75                 0                   1  \n",
       "3                     0   75                 0                   1  \n",
       "4                     0   98                 0                   1  "
      ]
     },
     "execution_count": 26,
     "metadata": {},
     "output_type": "execute_result"
    }
   ],
   "source": [
    "md_analysis.head()"
   ]
  },
  {
   "cell_type": "code",
   "execution_count": 27,
   "metadata": {},
   "outputs": [
    {
     "name": "stdout",
     "output_type": "stream",
     "text": [
      "<class 'pandas.core.frame.DataFrame'>\n",
      "Int64Index: 118898 entries, 0 to 119389\n",
      "Data columns (total 13 columns):\n",
      " #   Column                          Non-Null Count   Dtype\n",
      "---  ------                          --------------   -----\n",
      " 0   is_canceled                     118898 non-null  int64\n",
      " 1   lead_time                       118898 non-null  int64\n",
      " 2   total_of_special_requests       118898 non-null  int64\n",
      " 3   required_car_parking_spaces     118898 non-null  int64\n",
      " 4   booking_changes                 118898 non-null  int64\n",
      " 5   previous_cancellations          118898 non-null  int64\n",
      " 6   is_repeated_guest               118898 non-null  int64\n",
      " 7   adults                          118898 non-null  int64\n",
      " 8   previous_bookings_not_canceled  118898 non-null  int64\n",
      " 9   days_in_waiting_list            118898 non-null  int64\n",
      " 10  adr                             118898 non-null  int64\n",
      " 11  hotel_City Hotel                118898 non-null  uint8\n",
      " 12  hotel_Resort Hotel              118898 non-null  uint8\n",
      "dtypes: int64(11), uint8(2)\n",
      "memory usage: 15.1 MB\n"
     ]
    }
   ],
   "source": [
    "md_analysis.info()"
   ]
  },
  {
   "cell_type": "markdown",
   "metadata": {},
   "source": [
    "# Data scaling/ Normalization"
   ]
  },
  {
   "cell_type": "code",
   "execution_count": 28,
   "metadata": {},
   "outputs": [
    {
     "data": {
      "image/png": "[encoded data removed]",
      "text/plain": [
       "<Figure size 1440x360 with 1 Axes>"
      ]
     },
     "metadata": {
      "needs_background": "light"
     },
     "output_type": "display_data"
    }
   ],
   "source": [
    "pltcol= ['lead_time','total_of_special_requests','required_car_parking_spaces', 'booking_changes', 'previous_cancellations', 'is_repeated_guest','adults', 'previous_bookings_not_canceled','days_in_waiting_list', 'adr']\n",
    "boxplot = md_analysis.boxplot(column=pltcol, figsize=(20,5), rot=0)"
   ]
  },
  {
   "cell_type": "markdown",
   "metadata": {},
   "source": [
    "The fields are visibly on different scales and will need to be normalized. "
   ]
  },
  {
   "cell_type": "code",
   "execution_count": 29,
   "metadata": {},
   "outputs": [],
   "source": [
    "# splitting columns based on datatypes to work on each dataframe separately, objects and numerical colums will be grouped separately. \n",
    "col_num=['lead_time','total_of_special_requests','required_car_parking_spaces', 'booking_changes', 'previous_cancellations', 'is_repeated_guest','adults', 'previous_bookings_not_canceled','days_in_waiting_list', 'adr', 'hotel_City Hotel', 'hotel_Resort Hotel']"
   ]
  },
  {
   "cell_type": "code",
   "execution_count": 30,
   "metadata": {},
   "outputs": [],
   "source": [
    "#defining the new split object and numerical column. This way I can scale the numerical colums easily. \n",
    "md_num=md_analysis[col_num]"
   ]
  },
  {
   "cell_type": "code",
   "execution_count": 31,
   "metadata": {},
   "outputs": [
    {
     "name": "stderr",
     "output_type": "stream",
     "text": [
      "<ipython-input-31-9db7d446731e>:3: SettingWithCopyWarning: \n",
      "A value is trying to be set on a copy of a slice from a DataFrame.\n",
      "Try using .loc[row_indexer,col_indexer] = value instead\n",
      "\n",
      "See the caveats in the documentation: https://pandas.pydata.org/pandas-docs/stable/user_guide/indexing.html#returning-a-view-versus-a-copy\n",
      "  md_num[column] = (md_num[column] -\n",
      "<ipython-input-31-9db7d446731e>:3: SettingWithCopyWarning: \n",
      "A value is trying to be set on a copy of a slice from a DataFrame.\n",
      "Try using .loc[row_indexer,col_indexer] = value instead\n",
      "\n",
      "See the caveats in the documentation: https://pandas.pydata.org/pandas-docs/stable/user_guide/indexing.html#returning-a-view-versus-a-copy\n",
      "  md_num[column] = (md_num[column] -\n",
      "<ipython-input-31-9db7d446731e>:3: SettingWithCopyWarning: \n",
      "A value is trying to be set on a copy of a slice from a DataFrame.\n",
      "Try using .loc[row_indexer,col_indexer] = value instead\n",
      "\n",
      "See the caveats in the documentation: https://pandas.pydata.org/pandas-docs/stable/user_guide/indexing.html#returning-a-view-versus-a-copy\n",
      "  md_num[column] = (md_num[column] -\n"
     ]
    },
    {
     "data": {
      "text/html": [
       "<div>\n",
       "<style scoped>\n",
       "    .dataframe tbody tr th:only-of-type {\n",
       "        vertical-align: middle;\n",
       "    }\n",
       "\n",
       "    .dataframe tbody tr th {\n",
       "        vertical-align: top;\n",
       "    }\n",
       "\n",
       "    .dataframe thead th {\n",
       "        text-align: right;\n",
       "    }\n",
       "</style>\n",
       "<table border=\"1\" class=\"dataframe\">\n",
       "  <thead>\n",
       "    <tr style=\"text-align: right;\">\n",
       "      <th></th>\n",
       "      <th>lead_time</th>\n",
       "      <th>total_of_special_requests</th>\n",
       "      <th>required_car_parking_spaces</th>\n",
       "      <th>booking_changes</th>\n",
       "      <th>previous_cancellations</th>\n",
       "      <th>is_repeated_guest</th>\n",
       "      <th>adults</th>\n",
       "      <th>previous_bookings_not_canceled</th>\n",
       "      <th>days_in_waiting_list</th>\n",
       "      <th>adr</th>\n",
       "      <th>hotel_City Hotel</th>\n",
       "      <th>hotel_Resort Hotel</th>\n",
       "    </tr>\n",
       "  </thead>\n",
       "  <tbody>\n",
       "    <tr>\n",
       "      <th>0</th>\n",
       "      <td>2.223398</td>\n",
       "      <td>-0.721205</td>\n",
       "      <td>-0.253448</td>\n",
       "      <td>4.256867</td>\n",
       "      <td>-0.103021</td>\n",
       "      <td>-0.181849</td>\n",
       "      <td>0.244754</td>\n",
       "      <td>-0.088662</td>\n",
       "      <td>-0.1322</td>\n",
       "      <td>-2.016861</td>\n",
       "      <td>-1.415189</td>\n",
       "      <td>1.415189</td>\n",
       "    </tr>\n",
       "    <tr>\n",
       "      <th>1</th>\n",
       "      <td>5.918325</td>\n",
       "      <td>-0.721205</td>\n",
       "      <td>-0.253448</td>\n",
       "      <td>5.788764</td>\n",
       "      <td>-0.103021</td>\n",
       "      <td>-0.181849</td>\n",
       "      <td>0.244754</td>\n",
       "      <td>-0.088662</td>\n",
       "      <td>-0.1322</td>\n",
       "      <td>-2.016861</td>\n",
       "      <td>-1.415189</td>\n",
       "      <td>1.415189</td>\n",
       "    </tr>\n",
       "    <tr>\n",
       "      <th>2</th>\n",
       "      <td>-0.910275</td>\n",
       "      <td>-0.721205</td>\n",
       "      <td>-0.253448</td>\n",
       "      <td>-0.338827</td>\n",
       "      <td>-0.103021</td>\n",
       "      <td>-0.181849</td>\n",
       "      <td>-1.483629</td>\n",
       "      <td>-0.088662</td>\n",
       "      <td>-0.1322</td>\n",
       "      <td>-0.530939</td>\n",
       "      <td>-1.415189</td>\n",
       "      <td>1.415189</td>\n",
       "    </tr>\n",
       "    <tr>\n",
       "      <th>3</th>\n",
       "      <td>-0.854150</td>\n",
       "      <td>-0.721205</td>\n",
       "      <td>-0.253448</td>\n",
       "      <td>-0.338827</td>\n",
       "      <td>-0.103021</td>\n",
       "      <td>-0.181849</td>\n",
       "      <td>-1.483629</td>\n",
       "      <td>-0.088662</td>\n",
       "      <td>-0.1322</td>\n",
       "      <td>-0.530939</td>\n",
       "      <td>-1.415189</td>\n",
       "      <td>1.415189</td>\n",
       "    </tr>\n",
       "    <tr>\n",
       "      <th>4</th>\n",
       "      <td>-0.844796</td>\n",
       "      <td>0.540341</td>\n",
       "      <td>-0.253448</td>\n",
       "      <td>-0.338827</td>\n",
       "      <td>-0.103021</td>\n",
       "      <td>-0.181849</td>\n",
       "      <td>0.244754</td>\n",
       "      <td>-0.088662</td>\n",
       "      <td>-0.1322</td>\n",
       "      <td>-0.075256</td>\n",
       "      <td>-1.415189</td>\n",
       "      <td>1.415189</td>\n",
       "    </tr>\n",
       "  </tbody>\n",
       "</table>\n",
       "</div>"
      ],
      "text/plain": [
       "   lead_time  total_of_special_requests  required_car_parking_spaces  \\\n",
       "0   2.223398                  -0.721205                    -0.253448   \n",
       "1   5.918325                  -0.721205                    -0.253448   \n",
       "2  -0.910275                  -0.721205                    -0.253448   \n",
       "3  -0.854150                  -0.721205                    -0.253448   \n",
       "4  -0.844796                   0.540341                    -0.253448   \n",
       "\n",
       "   booking_changes  previous_cancellations  is_repeated_guest    adults  \\\n",
       "0         4.256867               -0.103021          -0.181849  0.244754   \n",
       "1         5.788764               -0.103021          -0.181849  0.244754   \n",
       "2        -0.338827               -0.103021          -0.181849 -1.483629   \n",
       "3        -0.338827               -0.103021          -0.181849 -1.483629   \n",
       "4        -0.338827               -0.103021          -0.181849  0.244754   \n",
       "\n",
       "   previous_bookings_not_canceled  days_in_waiting_list       adr  \\\n",
       "0                       -0.088662               -0.1322 -2.016861   \n",
       "1                       -0.088662               -0.1322 -2.016861   \n",
       "2                       -0.088662               -0.1322 -0.530939   \n",
       "3                       -0.088662               -0.1322 -0.530939   \n",
       "4                       -0.088662               -0.1322 -0.075256   \n",
       "\n",
       "   hotel_City Hotel  hotel_Resort Hotel  \n",
       "0         -1.415189            1.415189  \n",
       "1         -1.415189            1.415189  \n",
       "2         -1.415189            1.415189  \n",
       "3         -1.415189            1.415189  \n",
       "4         -1.415189            1.415189  "
      ]
     },
     "metadata": {},
     "output_type": "display_data"
    }
   ],
   "source": [
    "# apply Z scale normalization techniques\n",
    "for column in md_num.columns:\n",
    "    md_num[column] = (md_num[column] -\n",
    "                           md_num[column].mean()) / md_num[column].std()    \n",
    "\n",
    "display(md_num.head())"
   ]
  },
  {
   "cell_type": "code",
   "execution_count": 32,
   "metadata": {},
   "outputs": [],
   "source": [
    "#Creating new master data from merged and normalized datasets\n",
    "hotelcancellationpred=pd.concat([md_analysis['is_canceled'],md_num],axis=1)"
   ]
  },
  {
   "cell_type": "code",
   "execution_count": 33,
   "metadata": {
    "scrolled": true
   },
   "outputs": [
    {
     "data": {
      "text/html": [
       "<div>\n",
       "<style scoped>\n",
       "    .dataframe tbody tr th:only-of-type {\n",
       "        vertical-align: middle;\n",
       "    }\n",
       "\n",
       "    .dataframe tbody tr th {\n",
       "        vertical-align: top;\n",
       "    }\n",
       "\n",
       "    .dataframe thead th {\n",
       "        text-align: right;\n",
       "    }\n",
       "</style>\n",
       "<table border=\"1\" class=\"dataframe\">\n",
       "  <thead>\n",
       "    <tr style=\"text-align: right;\">\n",
       "      <th></th>\n",
       "      <th>is_canceled</th>\n",
       "      <th>lead_time</th>\n",
       "      <th>total_of_special_requests</th>\n",
       "      <th>required_car_parking_spaces</th>\n",
       "      <th>booking_changes</th>\n",
       "      <th>previous_cancellations</th>\n",
       "      <th>is_repeated_guest</th>\n",
       "      <th>adults</th>\n",
       "      <th>previous_bookings_not_canceled</th>\n",
       "      <th>days_in_waiting_list</th>\n",
       "      <th>adr</th>\n",
       "      <th>hotel_City Hotel</th>\n",
       "      <th>hotel_Resort Hotel</th>\n",
       "    </tr>\n",
       "  </thead>\n",
       "  <tbody>\n",
       "    <tr>\n",
       "      <th>0</th>\n",
       "      <td>0</td>\n",
       "      <td>2.223398</td>\n",
       "      <td>-0.721205</td>\n",
       "      <td>-0.253448</td>\n",
       "      <td>4.256867</td>\n",
       "      <td>-0.103021</td>\n",
       "      <td>-0.181849</td>\n",
       "      <td>0.244754</td>\n",
       "      <td>-0.088662</td>\n",
       "      <td>-0.1322</td>\n",
       "      <td>-2.016861</td>\n",
       "      <td>-1.415189</td>\n",
       "      <td>1.415189</td>\n",
       "    </tr>\n",
       "    <tr>\n",
       "      <th>1</th>\n",
       "      <td>0</td>\n",
       "      <td>5.918325</td>\n",
       "      <td>-0.721205</td>\n",
       "      <td>-0.253448</td>\n",
       "      <td>5.788764</td>\n",
       "      <td>-0.103021</td>\n",
       "      <td>-0.181849</td>\n",
       "      <td>0.244754</td>\n",
       "      <td>-0.088662</td>\n",
       "      <td>-0.1322</td>\n",
       "      <td>-2.016861</td>\n",
       "      <td>-1.415189</td>\n",
       "      <td>1.415189</td>\n",
       "    </tr>\n",
       "    <tr>\n",
       "      <th>2</th>\n",
       "      <td>0</td>\n",
       "      <td>-0.910275</td>\n",
       "      <td>-0.721205</td>\n",
       "      <td>-0.253448</td>\n",
       "      <td>-0.338827</td>\n",
       "      <td>-0.103021</td>\n",
       "      <td>-0.181849</td>\n",
       "      <td>-1.483629</td>\n",
       "      <td>-0.088662</td>\n",
       "      <td>-0.1322</td>\n",
       "      <td>-0.530939</td>\n",
       "      <td>-1.415189</td>\n",
       "      <td>1.415189</td>\n",
       "    </tr>\n",
       "    <tr>\n",
       "      <th>3</th>\n",
       "      <td>0</td>\n",
       "      <td>-0.854150</td>\n",
       "      <td>-0.721205</td>\n",
       "      <td>-0.253448</td>\n",
       "      <td>-0.338827</td>\n",
       "      <td>-0.103021</td>\n",
       "      <td>-0.181849</td>\n",
       "      <td>-1.483629</td>\n",
       "      <td>-0.088662</td>\n",
       "      <td>-0.1322</td>\n",
       "      <td>-0.530939</td>\n",
       "      <td>-1.415189</td>\n",
       "      <td>1.415189</td>\n",
       "    </tr>\n",
       "    <tr>\n",
       "      <th>4</th>\n",
       "      <td>0</td>\n",
       "      <td>-0.844796</td>\n",
       "      <td>0.540341</td>\n",
       "      <td>-0.253448</td>\n",
       "      <td>-0.338827</td>\n",
       "      <td>-0.103021</td>\n",
       "      <td>-0.181849</td>\n",
       "      <td>0.244754</td>\n",
       "      <td>-0.088662</td>\n",
       "      <td>-0.1322</td>\n",
       "      <td>-0.075256</td>\n",
       "      <td>-1.415189</td>\n",
       "      <td>1.415189</td>\n",
       "    </tr>\n",
       "  </tbody>\n",
       "</table>\n",
       "</div>"
      ],
      "text/plain": [
       "   is_canceled  lead_time  total_of_special_requests  \\\n",
       "0            0   2.223398                  -0.721205   \n",
       "1            0   5.918325                  -0.721205   \n",
       "2            0  -0.910275                  -0.721205   \n",
       "3            0  -0.854150                  -0.721205   \n",
       "4            0  -0.844796                   0.540341   \n",
       "\n",
       "   required_car_parking_spaces  booking_changes  previous_cancellations  \\\n",
       "0                    -0.253448         4.256867               -0.103021   \n",
       "1                    -0.253448         5.788764               -0.103021   \n",
       "2                    -0.253448        -0.338827               -0.103021   \n",
       "3                    -0.253448        -0.338827               -0.103021   \n",
       "4                    -0.253448        -0.338827               -0.103021   \n",
       "\n",
       "   is_repeated_guest    adults  previous_bookings_not_canceled  \\\n",
       "0          -0.181849  0.244754                       -0.088662   \n",
       "1          -0.181849  0.244754                       -0.088662   \n",
       "2          -0.181849 -1.483629                       -0.088662   \n",
       "3          -0.181849 -1.483629                       -0.088662   \n",
       "4          -0.181849  0.244754                       -0.088662   \n",
       "\n",
       "   days_in_waiting_list       adr  hotel_City Hotel  hotel_Resort Hotel  \n",
       "0               -0.1322 -2.016861         -1.415189            1.415189  \n",
       "1               -0.1322 -2.016861         -1.415189            1.415189  \n",
       "2               -0.1322 -0.530939         -1.415189            1.415189  \n",
       "3               -0.1322 -0.530939         -1.415189            1.415189  \n",
       "4               -0.1322 -0.075256         -1.415189            1.415189  "
      ]
     },
     "execution_count": 33,
     "metadata": {},
     "output_type": "execute_result"
    }
   ],
   "source": [
    "hotelcancellationpred.head()"
   ]
  },
  {
   "cell_type": "markdown",
   "metadata": {},
   "source": [
    "## Test-Train Split"
   ]
  },
  {
   "cell_type": "code",
   "execution_count": 34,
   "metadata": {},
   "outputs": [
    {
     "data": {
      "text/plain": [
       "((95118, 12), (95118,), (23780, 12), (23780,))"
      ]
     },
     "execution_count": 34,
     "metadata": {},
     "output_type": "execute_result"
    }
   ],
   "source": [
    "# Splitting  data into Train and test set\n",
    "\n",
    "train_var = hotelcancellationpred.drop(['is_canceled'], axis=1)\n",
    "test_var = hotelcancellationpred['is_canceled']\n",
    "X_train, X_test, y_train, y_test = train_test_split(train_var, test_var, test_size=0.20,random_state=2)\n",
    "X_train.shape, y_train.shape, X_test.shape, y_test.shape"
   ]
  },
  {
   "cell_type": "code",
   "execution_count": 35,
   "metadata": {},
   "outputs": [],
   "source": [
    "#Scaling the train and test input data through standard scaling\n",
    "\n",
    "std_scaler = StandardScaler()\n",
    "std_scaler.fit(X_train)\n",
    "X_train_std = std_scaler.transform(X_train)\n",
    "X_test_std = std_scaler.transform(X_test)\n",
    "\n",
    "mm_scaler = MinMaxScaler()\n",
    "mm_scaler.fit(X_train)\n",
    "X_train_mm = mm_scaler.transform(X_train)\n",
    "X_test_mm = mm_scaler.transform(X_test)"
   ]
  },
  {
   "cell_type": "code",
   "execution_count": 36,
   "metadata": {},
   "outputs": [
    {
     "name": "stdout",
     "output_type": "stream",
     "text": [
      "0    59768\n",
      "1    35350\n",
      "Name: is_canceled, dtype: int64\n",
      "\n",
      "\n",
      "37.16 percent of canceled\n",
      "62.84 percent of NOT canceled\n"
     ]
    }
   ],
   "source": [
    "print(y_train.value_counts())\n",
    "print('\\n')\n",
    "print('%.2f percent of canceled' %(y_train.mean()*100))\n",
    "print('%.2f percent of NOT canceled' %(100-(y_train.mean()*100)))"
   ]
  },
  {
   "cell_type": "markdown",
   "metadata": {},
   "source": [
    "Inference: The above probability of 37% is the baseline threshold. Now, ROC Analysis will confirm this more accurately. "
   ]
  },
  {
   "cell_type": "code",
   "execution_count": 37,
   "metadata": {},
   "outputs": [],
   "source": [
    "# Probability threshold determination\n",
    "\n",
    "#choosing ROC curve \n",
    "model = LogisticRegression()\n",
    "model.fit(X_train,y_train)\n",
    "pred_prob1 = model.predict_proba(X_test)\n",
    "from sklearn.metrics import roc_curve\n",
    "\n",
    "# roc curve for models\n",
    "fpr1, tpr1, thresh1 = roc_curve(y_test, pred_prob1[:,1], pos_label=1)\n",
    "\n",
    "# roc curve for tpr = fpr \n",
    "random_probs = [0 for i in range(len(y_test))]\n",
    "p_fpr, p_tpr, _ = roc_curve(y_test, random_probs, pos_label=1)"
   ]
  },
  {
   "cell_type": "code",
   "execution_count": 38,
   "metadata": {},
   "outputs": [
    {
     "name": "stdout",
     "output_type": "stream",
     "text": [
      "0.7866318191358145\n"
     ]
    }
   ],
   "source": [
    "from sklearn.metrics import roc_auc_score\n",
    "\n",
    "# auc scores\n",
    "auc_score1 = roc_auc_score(y_test, pred_prob1[:,1])\n",
    "print(auc_score1)"
   ]
  },
  {
   "cell_type": "code",
   "execution_count": 39,
   "metadata": {},
   "outputs": [
    {
     "data": {
      "image/png": "[encoded data removed]",
      "text/plain": [
       "<Figure size 576x396 with 1 Axes>"
      ]
     },
     "metadata": {},
     "output_type": "display_data"
    }
   ],
   "source": [
    "# matplotlib\n",
    "import matplotlib.pyplot as plt\n",
    "plt.style.use('seaborn')\n",
    "\n",
    "# plot roc curves\n",
    "plt.plot(fpr1, tpr1, linestyle='--',color='orange', label='Logistic Regression')\n",
    "plt.plot(p_fpr, p_tpr, linestyle='--', color='blue')\n",
    "# title\n",
    "plt.title('ROC curve')\n",
    "# x label\n",
    "plt.xlabel('False Positive Rate')\n",
    "# y label\n",
    "plt.ylabel('True Positive rate')\n",
    "\n",
    "plt.legend(loc='best')\n",
    "plt.savefig('ROC',dpi=300)\n",
    "plt.show();"
   ]
  },
  {
   "cell_type": "code",
   "execution_count": 40,
   "metadata": {},
   "outputs": [
    {
     "data": {
      "text/plain": [
       "0.40070082293402004"
      ]
     },
     "execution_count": 40,
     "metadata": {},
     "output_type": "execute_result"
    }
   ],
   "source": [
    "# Identifying best threshold for the model based on \n",
    "\n",
    "optimal_idx = np.argmax(tpr1 - fpr1)\n",
    "optimal_threshold = thresh1[optimal_idx]\n",
    "optimal_threshold"
   ]
  },
  {
   "cell_type": "markdown",
   "metadata": {},
   "source": [
    "Inference: The best probability threshold is indicated to be 0.4 for this model. This is the inital prediction for any new customer, to say there is a 40% chance of it being canceled."
   ]
  },
  {
   "cell_type": "markdown",
   "metadata": {},
   "source": [
    "# Models and Results"
   ]
  },
  {
   "cell_type": "code",
   "execution_count": 41,
   "metadata": {},
   "outputs": [],
   "source": [
    "def ConfusionMatrix(y_test,logreg_pred):\n",
    "    confusion = metrics.confusion_matrix(y_test, logreg_pred)\n",
    "    c = pd.DataFrame(confusion, columns=['y_test','logreg_pred'])\n",
    "    confusion_matrix = pd.crosstab(c['y_test'], c['logreg_pred'], rownames=['Actual'], colnames=['Predicted'])\n",
    "    sns.heatmap(confusion, annot=True,cmap='flare',fmt=\"d\")\n",
    "    plt.show()\n",
    "    print(confusion)\n",
    "    # this is to compare manual accuracy score computation versus what accuracy_score() fn gives. \n",
    "    TP = confusion[1, 1]  # True Positives\n",
    "    TN = confusion[0, 0]  # True Negatives\n",
    "    FP = confusion[0, 1]  # False Positives\n",
    "    FN = confusion[1, 0]  # False Negatives\n",
    "    print(\"Manual Model Accuracy Score is:\")\n",
    "    print((TP + TN) / (TP + TN + FP + FN))"
   ]
  },
  {
   "cell_type": "markdown",
   "metadata": {},
   "source": [
    "# Logistic Regression"
   ]
  },
  {
   "cell_type": "code",
   "execution_count": 42,
   "metadata": {
    "scrolled": true
   },
   "outputs": [
    {
     "name": "stdout",
     "output_type": "stream",
     "text": [
      "Test accuracy: 0.727\n",
      "Average cross validation score: 0.726\n",
      "Runtime of the program is 7.156856060028076\n"
     ]
    }
   ],
   "source": [
    "#logistic regression\n",
    "start = time.time()\n",
    "\n",
    "logreg = LogisticRegression(max_iter=500).fit(X_train_mm, y_train)\n",
    "scores = cross_val_score(logreg, X_train_mm, y_train, cv=5)\n",
    "logreg_pred = logreg.predict(X_test_mm)\n",
    "lr_test_accuracy=logreg.score(X_test_mm, y_test)\n",
    "lr_cv_accuracy=scores.mean()\n",
    "print(\"Test accuracy: {:.3f}\".format(logreg.score(X_test_mm, y_test)))\n",
    "print(\"Average cross validation score: {:.3f}\".format(scores.mean()))\n",
    "\n",
    "\n",
    "end = time.time()\n",
    "lr_time=round(end-start,2)\n",
    "print(f\"Runtime of the program is {end - start}\")"
   ]
  },
  {
   "cell_type": "code",
   "execution_count": 43,
   "metadata": {},
   "outputs": [
    {
     "data": {
      "image/png": "[encoded data removed]",
      "text/plain": [
       "<Figure size 576x396 with 2 Axes>"
      ]
     },
     "metadata": {},
     "output_type": "display_data"
    },
    {
     "name": "stdout",
     "output_type": "stream",
     "text": [
      "[[13159  1818]\n",
      " [ 4674  4129]]\n",
      "Manual Model Accuracy Score is:\n",
      "0.7269974768713204\n"
     ]
    }
   ],
   "source": [
    "ConfusionMatrix(y_test,logreg_pred)"
   ]
  },
  {
   "cell_type": "markdown",
   "metadata": {},
   "source": [
    "# K-Nearest Neighbours"
   ]
  },
  {
   "cell_type": "code",
   "execution_count": 44,
   "metadata": {},
   "outputs": [],
   "source": [
    "#K- Nearest Neighbours\n",
    "start = time.time()\n",
    "\n",
    "error = []\n",
    "from sklearn.neighbors import KNeighborsClassifier\n",
    "\n",
    "# Calculating error for K values between 1 and 40\n",
    "for i in range(1, 20):\n",
    "    knn = KNeighborsClassifier(n_neighbors=i)\n",
    "    knn.fit(X_train, y_train)\n",
    "    pred_i = knn.predict(X_test)\n",
    "    error.append(np.mean(pred_i != y_test))"
   ]
  },
  {
   "cell_type": "code",
   "execution_count": 45,
   "metadata": {},
   "outputs": [
    {
     "data": {
      "text/plain": [
       "Text(0, 0.5, 'Mean Error')"
      ]
     },
     "execution_count": 45,
     "metadata": {},
     "output_type": "execute_result"
    },
    {
     "data": {
      "image/png": "[encoded data removed]",
      "text/plain": [
       "<Figure size 864x432 with 1 Axes>"
      ]
     },
     "metadata": {},
     "output_type": "display_data"
    }
   ],
   "source": [
    "plt.figure(figsize=(12, 6))\n",
    "plt.plot(range(1, 20), error, color='red', linestyle='dashed', marker='o',\n",
    "         markerfacecolor='blue', markersize=10)\n",
    "plt.title('Error Rate K Value')\n",
    "plt.xlabel('K Value')\n",
    "plt.ylabel('Mean Error')"
   ]
  },
  {
   "cell_type": "markdown",
   "metadata": {},
   "source": [
    "Inference: from the above, Least error at k=4, so this can be used. "
   ]
  },
  {
   "cell_type": "code",
   "execution_count": 46,
   "metadata": {},
   "outputs": [
    {
     "name": "stdout",
     "output_type": "stream",
     "text": [
      "              precision    recall  f1-score   support\n",
      "\n",
      "           0       0.80      0.91      0.85     14977\n",
      "           1       0.81      0.61      0.70      8803\n",
      "\n",
      "    accuracy                           0.80     23780\n",
      "   macro avg       0.80      0.76      0.78     23780\n",
      "weighted avg       0.80      0.80      0.80     23780\n",
      "\n",
      "Average cross validation score: 0.794\n",
      "Runtime of the program is 617.4664604663849\n"
     ]
    }
   ],
   "source": [
    "from sklearn.metrics import classification_report, confusion_matrix\n",
    "\n",
    "classifier = KNeighborsClassifier(n_neighbors=4)\n",
    "classifier.fit(X_train, y_train)\n",
    "y_pred = classifier.predict(X_test)\n",
    "\n",
    "print(classification_report(y_test, y_pred))\n",
    "knn_test_accuracy=0.76\n",
    "knn_cv_accuracy=scores.mean()\n",
    "scores = cross_val_score(knn, X_train, y_train, cv=5)\n",
    "\n",
    "end = time.time()\n",
    "\n",
    "print(\"Average cross validation score: {:.3f}\".format(scores.mean()))\n",
    "knn_time=round(end-start,2)\n",
    "print(f\"Runtime of the program is {end - start}\")"
   ]
  },
  {
   "cell_type": "code",
   "execution_count": 47,
   "metadata": {},
   "outputs": [
    {
     "data": {
      "image/png": "[encoded data removed]",
      "text/plain": [
       "<Figure size 576x396 with 2 Axes>"
      ]
     },
     "metadata": {},
     "output_type": "display_data"
    },
    {
     "name": "stdout",
     "output_type": "stream",
     "text": [
      "[[13696  1281]\n",
      " [ 3409  5394]]\n",
      "Manual Model Accuracy Score is:\n",
      "0.8027754415475189\n"
     ]
    }
   ],
   "source": [
    "ConfusionMatrix(y_test,y_pred)"
   ]
  },
  {
   "cell_type": "markdown",
   "metadata": {},
   "source": [
    "Inference: 80% accuracy for K=4 which is the highest value"
   ]
  },
  {
   "cell_type": "markdown",
   "metadata": {},
   "source": [
    "# Decision Tree Analysis"
   ]
  },
  {
   "cell_type": "code",
   "execution_count": 48,
   "metadata": {
    "scrolled": true
   },
   "outputs": [
    {
     "name": "stdout",
     "output_type": "stream",
     "text": [
      "Average cross validation score: 0.628\n",
      "Test accuracy: 0.630\n",
      "Runtime of the program is 0.4213526248931885\n"
     ]
    }
   ],
   "source": [
    "# Decision Tree Analysis:\n",
    "\n",
    "start = time.time()\n",
    "\n",
    "tree = DecisionTreeClassifier(max_depth=1).fit(X_train, y_train)\n",
    "scores = cross_val_score(tree, X_train, y_train, cv=5)\n",
    "tree_pred = tree.predict(X_test)\n",
    "dt_test_accuracy=tree.score(X_test, y_test)\n",
    "dt_cv_accuracy=tree.score(X_test, y_test)\n",
    "\n",
    "end = time.time()\n",
    "\n",
    "print(\"Average cross validation score: {:.3f}\".format(scores.mean()))\n",
    "print(\"Test accuracy: {:.3f}\".format(tree.score(X_test, y_test)))\n",
    "dt_time=round(end-start,2)\n",
    "print(f\"Runtime of the program is {end - start}\")"
   ]
  },
  {
   "cell_type": "markdown",
   "metadata": {},
   "source": [
    "# Random forest"
   ]
  },
  {
   "cell_type": "code",
   "execution_count": 49,
   "metadata": {},
   "outputs": [
    {
     "name": "stdout",
     "output_type": "stream",
     "text": [
      "Accuracy: 0.800\n",
      "Runtime of the program is 0.5632164478302002\n"
     ]
    }
   ],
   "source": [
    "# Random forest\n",
    "\n",
    "start = time.time()\n",
    "\n",
    "from sklearn.metrics import accuracy_score\n",
    "from sklearn.ensemble import RandomForestClassifier\n",
    "\n",
    "#Create an instance of Random Forest Classifier\n",
    "forest = RandomForestClassifier(criterion='gini',\n",
    "                                 n_estimators=5,\n",
    "                                 random_state=1,\n",
    "                                 n_jobs=2)\n",
    "# Fit the model\n",
    "forest.fit(X_train, y_train)\n",
    " \n",
    "# Measure model performance\n",
    "y_pred = forest.predict(X_test)\n",
    "rf_test_accuracy=accuracy_score(y_test, y_pred)\n",
    "print('Accuracy: %.3f' % accuracy_score(y_test, y_pred))\n",
    "\n",
    "end = time.time()\n",
    "rf_time=round(end-start,2)\n",
    "print(f\"Runtime of the program is {end - start}\")"
   ]
  },
  {
   "cell_type": "code",
   "execution_count": 50,
   "metadata": {},
   "outputs": [
    {
     "data": {
      "image/png": "[encoded data removed]",
      "text/plain": [
       "<Figure size 576x396 with 2 Axes>"
      ]
     },
     "metadata": {},
     "output_type": "display_data"
    },
    {
     "name": "stdout",
     "output_type": "stream",
     "text": [
      "[[12846  2131]\n",
      " [ 2632  6171]]\n",
      "Manual Model Accuracy Score is:\n",
      "0.7997056349873843\n"
     ]
    }
   ],
   "source": [
    "ConfusionMatrix(y_test,y_pred)"
   ]
  },
  {
   "cell_type": "markdown",
   "metadata": {},
   "source": [
    "# Artifical Neural Networks"
   ]
  },
  {
   "cell_type": "code",
   "execution_count": 51,
   "metadata": {},
   "outputs": [
    {
     "name": "stdout",
     "output_type": "stream",
     "text": [
      "Accuracy: 0.771\n",
      "Runtime of the program is 88.7960991859436\n"
     ]
    }
   ],
   "source": [
    "# Artifical Neural Networks\n",
    "\n",
    "start = time.time()\n",
    "\n",
    "neuralnetwork = MLPClassifier()\n",
    "# Fit the model\n",
    "neuralnetwork.fit(X_train, y_train)\n",
    " \n",
    "# Measure model performance\n",
    "y_pred = neuralnetwork.predict(X_test)\n",
    "neuralnetwork_test_accuracy=accuracy_score(y_test, y_pred)\n",
    "print('Accuracy: %.3f' % accuracy_score(y_test, y_pred))\n",
    "\n",
    "end = time.time()\n",
    "neuralnetwork_time=round(end-start,2)\n",
    "print(f\"Runtime of the program is {end - start}\")"
   ]
  },
  {
   "cell_type": "code",
   "execution_count": 52,
   "metadata": {},
   "outputs": [
    {
     "data": {
      "image/png": "[encoded data removed]",
      "text/plain": [
       "<Figure size 576x396 with 2 Axes>"
      ]
     },
     "metadata": {},
     "output_type": "display_data"
    },
    {
     "name": "stdout",
     "output_type": "stream",
     "text": [
      "[[13145  1832]\n",
      " [ 3609  5194]]\n",
      "Manual Model Accuracy Score is:\n",
      "0.7711942809083263\n"
     ]
    }
   ],
   "source": [
    "ConfusionMatrix(y_test,y_pred)"
   ]
  },
  {
   "cell_type": "code",
   "execution_count": 60,
   "metadata": {},
   "outputs": [
    {
     "data": {
      "text/html": [
       "<div>\n",
       "<style scoped>\n",
       "    .dataframe tbody tr th:only-of-type {\n",
       "        vertical-align: middle;\n",
       "    }\n",
       "\n",
       "    .dataframe tbody tr th {\n",
       "        vertical-align: top;\n",
       "    }\n",
       "\n",
       "    .dataframe thead th {\n",
       "        text-align: right;\n",
       "    }\n",
       "</style>\n",
       "<table border=\"1\" class=\"dataframe\">\n",
       "  <thead>\n",
       "    <tr style=\"text-align: right;\">\n",
       "      <th></th>\n",
       "      <th>Model Name</th>\n",
       "      <th>Accuracy</th>\n",
       "      <th>Cross Validation</th>\n",
       "      <th>Run time</th>\n",
       "    </tr>\n",
       "  </thead>\n",
       "  <tbody>\n",
       "    <tr>\n",
       "      <th>0</th>\n",
       "      <td>Logistic Regression</td>\n",
       "      <td>0.73</td>\n",
       "      <td>0.726266</td>\n",
       "      <td>7.16</td>\n",
       "    </tr>\n",
       "    <tr>\n",
       "      <th>1</th>\n",
       "      <td>KNN</td>\n",
       "      <td>0.76</td>\n",
       "      <td>0.726266</td>\n",
       "      <td>617.47</td>\n",
       "    </tr>\n",
       "    <tr>\n",
       "      <th>2</th>\n",
       "      <td>Decision Tree</td>\n",
       "      <td>0.63</td>\n",
       "      <td>0.629815</td>\n",
       "      <td>0.42</td>\n",
       "    </tr>\n",
       "    <tr>\n",
       "      <th>3</th>\n",
       "      <td>Random Forest</td>\n",
       "      <td>0.80</td>\n",
       "      <td>NA</td>\n",
       "      <td>0.56</td>\n",
       "    </tr>\n",
       "    <tr>\n",
       "      <th>4</th>\n",
       "      <td>Artificial Neural Network</td>\n",
       "      <td>0.77</td>\n",
       "      <td>NA</td>\n",
       "      <td>88.80</td>\n",
       "    </tr>\n",
       "  </tbody>\n",
       "</table>\n",
       "</div>"
      ],
      "text/plain": [
       "                  Model Name  Accuracy Cross Validation  Run time\n",
       "0        Logistic Regression      0.73         0.726266      7.16\n",
       "1                        KNN      0.76         0.726266    617.47\n",
       "2              Decision Tree      0.63         0.629815      0.42\n",
       "3              Random Forest      0.80               NA      0.56\n",
       "4  Artificial Neural Network      0.77               NA     88.80"
      ]
     },
     "execution_count": 60,
     "metadata": {},
     "output_type": "execute_result"
    }
   ],
   "source": [
    "# initialize list of models for comparison\n",
    "data = [['Logistic Regression', lr_test_accuracy, lr_cv_accuracy, lr_time], ['KNN', knn_test_accuracy, knn_cv_accuracy, knn_time], ['Decision Tree', dt_test_accuracy, dt_cv_accuracy, dt_time], ['Random Forest', rf_test_accuracy, 'NA', rf_time], ['Artificial Neural Network', neuralnetwork_test_accuracy, 'NA', neuralnetwork_time]]\n",
    "  \n",
    "# Create the pandas DataFrame\n",
    "allmodels = pd.DataFrame(data, columns = ['Model Name', 'Accuracy','Cross Validation','Run time'])\n",
    "allmodels= allmodels.round(decimals=2)\n",
    "# print dataframe.\n",
    "allmodels"
   ]
  },
  {
   "cell_type": "markdown",
   "metadata": {},
   "source": [
    "# Model Comparison and Summary"
   ]
  },
  {
   "cell_type": "code",
   "execution_count": 61,
   "metadata": {},
   "outputs": [
    {
     "data": {
      "text/html": [
       "<div>\n",
       "<style scoped>\n",
       "    .dataframe tbody tr th:only-of-type {\n",
       "        vertical-align: middle;\n",
       "    }\n",
       "\n",
       "    .dataframe tbody tr th {\n",
       "        vertical-align: top;\n",
       "    }\n",
       "\n",
       "    .dataframe thead th {\n",
       "        text-align: right;\n",
       "    }\n",
       "</style>\n",
       "<table border=\"1\" class=\"dataframe\">\n",
       "  <thead>\n",
       "    <tr style=\"text-align: right;\">\n",
       "      <th></th>\n",
       "      <th>Model Name</th>\n",
       "      <th>Accuracy</th>\n",
       "      <th>Cross Validation</th>\n",
       "      <th>Run time</th>\n",
       "    </tr>\n",
       "  </thead>\n",
       "  <tbody>\n",
       "    <tr>\n",
       "      <th>3</th>\n",
       "      <td>Random Forest</td>\n",
       "      <td>0.80</td>\n",
       "      <td>NA</td>\n",
       "      <td>0.56</td>\n",
       "    </tr>\n",
       "    <tr>\n",
       "      <th>4</th>\n",
       "      <td>Artificial Neural Network</td>\n",
       "      <td>0.77</td>\n",
       "      <td>NA</td>\n",
       "      <td>88.80</td>\n",
       "    </tr>\n",
       "    <tr>\n",
       "      <th>1</th>\n",
       "      <td>KNN</td>\n",
       "      <td>0.76</td>\n",
       "      <td>0.726266</td>\n",
       "      <td>617.47</td>\n",
       "    </tr>\n",
       "    <tr>\n",
       "      <th>0</th>\n",
       "      <td>Logistic Regression</td>\n",
       "      <td>0.73</td>\n",
       "      <td>0.726266</td>\n",
       "      <td>7.16</td>\n",
       "    </tr>\n",
       "    <tr>\n",
       "      <th>2</th>\n",
       "      <td>Decision Tree</td>\n",
       "      <td>0.63</td>\n",
       "      <td>0.629815</td>\n",
       "      <td>0.42</td>\n",
       "    </tr>\n",
       "  </tbody>\n",
       "</table>\n",
       "</div>"
      ],
      "text/plain": [
       "                  Model Name  Accuracy Cross Validation  Run time\n",
       "3              Random Forest      0.80               NA      0.56\n",
       "4  Artificial Neural Network      0.77               NA     88.80\n",
       "1                        KNN      0.76         0.726266    617.47\n",
       "0        Logistic Regression      0.73         0.726266      7.16\n",
       "2              Decision Tree      0.63         0.629815      0.42"
      ]
     },
     "execution_count": 61,
     "metadata": {},
     "output_type": "execute_result"
    }
   ],
   "source": [
    "allmodels.sort_values('Accuracy', ascending = False )"
   ]
  },
  {
   "cell_type": "code",
   "execution_count": 62,
   "metadata": {},
   "outputs": [
    {
     "data": {
      "text/html": [
       "<div>\n",
       "<style scoped>\n",
       "    .dataframe tbody tr th:only-of-type {\n",
       "        vertical-align: middle;\n",
       "    }\n",
       "\n",
       "    .dataframe tbody tr th {\n",
       "        vertical-align: top;\n",
       "    }\n",
       "\n",
       "    .dataframe thead th {\n",
       "        text-align: right;\n",
       "    }\n",
       "</style>\n",
       "<table border=\"1\" class=\"dataframe\">\n",
       "  <thead>\n",
       "    <tr style=\"text-align: right;\">\n",
       "      <th></th>\n",
       "      <th>Model Name</th>\n",
       "      <th>Accuracy</th>\n",
       "      <th>Cross Validation</th>\n",
       "      <th>Run time</th>\n",
       "    </tr>\n",
       "  </thead>\n",
       "  <tbody>\n",
       "    <tr>\n",
       "      <th>2</th>\n",
       "      <td>Decision Tree</td>\n",
       "      <td>0.63</td>\n",
       "      <td>0.629815</td>\n",
       "      <td>0.42</td>\n",
       "    </tr>\n",
       "    <tr>\n",
       "      <th>3</th>\n",
       "      <td>Random Forest</td>\n",
       "      <td>0.80</td>\n",
       "      <td>NA</td>\n",
       "      <td>0.56</td>\n",
       "    </tr>\n",
       "    <tr>\n",
       "      <th>0</th>\n",
       "      <td>Logistic Regression</td>\n",
       "      <td>0.73</td>\n",
       "      <td>0.726266</td>\n",
       "      <td>7.16</td>\n",
       "    </tr>\n",
       "    <tr>\n",
       "      <th>4</th>\n",
       "      <td>Artificial Neural Network</td>\n",
       "      <td>0.77</td>\n",
       "      <td>NA</td>\n",
       "      <td>88.80</td>\n",
       "    </tr>\n",
       "    <tr>\n",
       "      <th>1</th>\n",
       "      <td>KNN</td>\n",
       "      <td>0.76</td>\n",
       "      <td>0.726266</td>\n",
       "      <td>617.47</td>\n",
       "    </tr>\n",
       "  </tbody>\n",
       "</table>\n",
       "</div>"
      ],
      "text/plain": [
       "                  Model Name  Accuracy Cross Validation  Run time\n",
       "2              Decision Tree      0.63         0.629815      0.42\n",
       "3              Random Forest      0.80               NA      0.56\n",
       "0        Logistic Regression      0.73         0.726266      7.16\n",
       "4  Artificial Neural Network      0.77               NA     88.80\n",
       "1                        KNN      0.76         0.726266    617.47"
      ]
     },
     "execution_count": 62,
     "metadata": {},
     "output_type": "execute_result"
    }
   ],
   "source": [
    "#comparison of all models\n",
    "allmodels.sort_values('Run time', ascending = True )"
   ]
  },
  {
   "cell_type": "markdown",
   "metadata": {},
   "source": [
    "# Final selection of model to use and Prediction Accuracy\n",
    "Based on Run time of models, highest time taken is by KNN method which is 617 seconds and this doesnt have the highest model accuracy of all either. Least time is from Decision Tree in .42 seconds but the model accuracy is poor at 63%.\n",
    "I would choose the Random Forest Model with it 80% accuracy of prediction and runtime highly comparable to that of the Decision Tree Model. "
   ]
  }
 ],
 "metadata": {
  "kernelspec": {
   "display_name": "Python 3",
   "language": "python",
   "name": "python3"
  },
  "language_info": {
   "codemirror_mode": {
    "name": "ipython",
    "version": 3
   },
   "file_extension": ".py",
   "mimetype": "text/x-python",
   "name": "python",
   "nbconvert_exporter": "python",
   "pygments_lexer": "ipython3",
   "version": "3.8.8"
  }
 },
 "nbformat": 4,
 "nbformat_minor": 2
}
